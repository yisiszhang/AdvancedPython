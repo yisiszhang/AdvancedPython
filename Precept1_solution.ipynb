{
  "nbformat": 4,
  "nbformat_minor": 0,
  "metadata": {
    "colab": {
      "name": "Precept1_solution.ipynb",
      "provenance": [],
      "authorship_tag": "ABX9TyOSxyypSHP2eWTM/AWZhd1j",
      "include_colab_link": true
    },
    "kernelspec": {
      "name": "python3",
      "display_name": "Python 3"
    },
    "language_info": {
      "name": "python"
    }
  },
  "cells": [
    {
      "cell_type": "markdown",
      "metadata": {
        "id": "view-in-github",
        "colab_type": "text"
      },
      "source": [
        "<a href=\"https://colab.research.google.com/github/yisiszhang/AdvancedPython/blob/main/Precept1_solution.ipynb\" target=\"_parent\"><img src=\"https://colab.research.google.com/assets/colab-badge.svg\" alt=\"Open In Colab\"/></a>"
      ]
    },
    {
      "cell_type": "markdown",
      "metadata": {
        "id": "oG2MEXY7xDI6"
      },
      "source": [
        "# Precept 1\n",
        "In this project, we will use a dataset with multiple predictors to predict a response.\n",
        "\n",
        "You tasks are\n",
        "\n",
        "1. Split data into training and test sets.\n",
        "2. Perform multiple linear regression using the full predictors and estimate the prediction accuracy using the test set.\n",
        "3. Perform variable selection using the training set and compare the prediction accuracy with the full model using the test set."
      ]
    },
    {
      "cell_type": "code",
      "metadata": {
        "colab": {
          "base_uri": "https://localhost:8080/"
        },
        "id": "7TBfXKzsw_gi",
        "outputId": "1f134ff9-dba0-4609-9559-b4944d06b293"
      },
      "source": [
        "!pip install -U scikit-learn"
      ],
      "execution_count": 1,
      "outputs": [
        {
          "output_type": "stream",
          "text": [
            "Collecting scikit-learn\n",
            "\u001b[?25l  Downloading https://files.pythonhosted.org/packages/a8/eb/a48f25c967526b66d5f1fa7a984594f0bf0a5afafa94a8c4dbc317744620/scikit_learn-0.24.2-cp37-cp37m-manylinux2010_x86_64.whl (22.3MB)\n",
            "\u001b[K     |████████████████████████████████| 22.3MB 49.2MB/s \n",
            "\u001b[?25hCollecting threadpoolctl>=2.0.0\n",
            "  Downloading https://files.pythonhosted.org/packages/c6/e8/c216b9b60cbba4642d3ca1bae7a53daa0c24426f662e0e3ce3dc7f6caeaa/threadpoolctl-2.2.0-py3-none-any.whl\n",
            "Requirement already satisfied, skipping upgrade: scipy>=0.19.1 in /usr/local/lib/python3.7/dist-packages (from scikit-learn) (1.4.1)\n",
            "Requirement already satisfied, skipping upgrade: joblib>=0.11 in /usr/local/lib/python3.7/dist-packages (from scikit-learn) (1.0.1)\n",
            "Requirement already satisfied, skipping upgrade: numpy>=1.13.3 in /usr/local/lib/python3.7/dist-packages (from scikit-learn) (1.19.5)\n",
            "Installing collected packages: threadpoolctl, scikit-learn\n",
            "  Found existing installation: scikit-learn 0.22.2.post1\n",
            "    Uninstalling scikit-learn-0.22.2.post1:\n",
            "      Successfully uninstalled scikit-learn-0.22.2.post1\n",
            "Successfully installed scikit-learn-0.24.2 threadpoolctl-2.2.0\n"
          ],
          "name": "stdout"
        }
      ]
    },
    {
      "cell_type": "code",
      "metadata": {
        "id": "XxqmzUyvxHpe"
      },
      "source": [
        "import numpy as np\n",
        "import sklearn\n",
        "import pandas as pd\n",
        "import matplotlib.pyplot as plt"
      ],
      "execution_count": 7,
      "outputs": []
    },
    {
      "cell_type": "code",
      "metadata": {
        "id": "ZV4AXizaOnDo"
      },
      "source": [
        "from sklearn.datasets import make_regression\n",
        "# generate regression dataset\n",
        "# Try different noise. You should see the benefit of variable selection for noisy data\n",
        "X, y = make_regression(n_samples=1000, n_features=20, n_informative=10, noise=100.0, random_state=1)\n",
        "n,d = X.shape"
      ],
      "execution_count": 45,
      "outputs": []
    },
    {
      "cell_type": "code",
      "metadata": {
        "colab": {
          "base_uri": "https://localhost:8080/"
        },
        "id": "ht-YK6n5xXVX",
        "outputId": "c7d0fd72-8338-49ef-f14a-d26e2535e584"
      },
      "source": [
        "# Split the data\n",
        "from sklearn.model_selection import train_test_split\n",
        "test_ratio = 0.2\n",
        "X_train, X_test, y_train, y_test = train_test_split(X, y, test_size = test_ratio)\n",
        "\n",
        "print(X_train.shape)\n",
        "print(X_test.shape)"
      ],
      "execution_count": 46,
      "outputs": [
        {
          "output_type": "stream",
          "text": [
            "(800, 20)\n",
            "(200, 20)\n"
          ],
          "name": "stdout"
        }
      ]
    },
    {
      "cell_type": "code",
      "metadata": {
        "colab": {
          "base_uri": "https://localhost:8080/"
        },
        "id": "_H266c2ByESv",
        "outputId": "306bc17f-acfa-40a4-e0cd-c0813742e010"
      },
      "source": [
        "# Fit multiple linear regression using the full predictors\n",
        "from sklearn import linear_model\n",
        "linreg = linear_model.LinearRegression()\n",
        "linreg.fit(X_train, y_train)\n",
        "\n",
        "print(linreg.coef_)\n",
        "# Print estimated coefficients."
      ],
      "execution_count": 47,
      "outputs": [
        {
          "output_type": "stream",
          "text": [
            "[ 71.61748413   0.56170322  -6.46657192   3.76585984  25.88617603\n",
            "  78.49998786  39.60822268  26.94624779  -7.18796607  -2.15960209\n",
            "  -3.61753612   8.1842629    5.86232879  -0.84442382 -11.02349929\n",
            "  46.15896016  67.22912326  -4.14362167   2.24820706  42.24392801]\n"
          ],
          "name": "stdout"
        }
      ]
    },
    {
      "cell_type": "code",
      "metadata": {
        "colab": {
          "base_uri": "https://localhost:8080/"
        },
        "id": "P1XLJ-rky_gW",
        "outputId": "347b48dc-bd99-49bd-cc43-50299b83375a"
      },
      "source": [
        "# Estimate accuracy. You can report MSE and R2\n",
        "from sklearn import metrics\n",
        "y_pred = linreg.predict(X_test)\n",
        "\n",
        "# Print MSE and R2\n",
        "print(metrics.mean_squared_error(y_test, y_pred))\n",
        "print(metrics.r2_score(y_test, y_pred))"
      ],
      "execution_count": 48,
      "outputs": [
        {
          "output_type": "stream",
          "text": [
            "11729.019271582163\n",
            "0.646840025099076\n"
          ],
          "name": "stdout"
        }
      ]
    },
    {
      "cell_type": "code",
      "metadata": {
        "colab": {
          "base_uri": "https://localhost:8080/",
          "height": 282
        },
        "id": "VPSAl6U6z7U1",
        "outputId": "48c76644-314b-4be3-dd44-9a7ab0370183"
      },
      "source": [
        "# Perform variable selection using 1. Kbest/forward\n",
        "from sklearn.feature_selection import SequentialFeatureSelector\n",
        "from sklearn.feature_selection import SelectKBest\n",
        "from sklearn.feature_selection import f_regression\n",
        "\n",
        "def aic(rss,n,d):\n",
        "  return 2*d + n*np.log(rss/n)\n",
        "\n",
        "def bic(rss,n,d):\n",
        "  return d*np.log(n) + n*np.log(rss/n)\n",
        "\n",
        "def adjustR2(rss,tss,n,d):\n",
        "  return 1-rss/(n-d-1)/tss*(n-1)\n",
        "\n",
        "# For each number of features (1 - d-1) specified apply the forward selection \n",
        "# And calculate the criteria\n",
        "cri = np.zeros(d)  \n",
        "for i in range(d-1):\n",
        "  regr_sel = linear_model.LinearRegression()\n",
        "  #sfs = SequentialFeatureSelector(regr_sel, n_features_to_select=i+1,direction='forward')\n",
        "  sfs = SelectKBest(score_func=f_regression, k=i+1)\n",
        "  sfs.fit(X_train,y_train)\n",
        "  X_sel = sfs.transform(X_train)\n",
        "  n,dsel = X_sel.shape\n",
        "  regr_sel.fit(X_sel, y_train)\n",
        "  y_hat = regr_sel.predict(X_sel)\n",
        "  rss = ((y_train - y_hat)**2).sum()\n",
        "  cri[i] = bic(rss, n, dsel)\n",
        "\n",
        "# rss of full model\n",
        "y_hat = linreg.predict(X_train)\n",
        "rss = ((y_train - y_hat)**2).sum()\n",
        "cri[d-1] = bic(rss, n, d)\n",
        "\n",
        "# plot the criteria over d selected\n",
        "plt.plot(np.arange(d)+1, cri)\n",
        "plt.show()\n",
        "\n",
        "# Print indices of selected variables\n",
        "best_d = np.argmin(cri) + 1\n",
        "#sfs = SequentialFeatureSelector(linreg, n_features_to_select=best_d)\n",
        "sfs = SelectKBest(score_func=f_regression, k=best_d)\n",
        "sfs.fit(X_train,y_train)\n",
        "np.where(sfs.get_support())"
      ],
      "execution_count": 31,
      "outputs": [
        {
          "output_type": "display_data",
          "data": {
            "image/png": "[encoded data removed]",
            "text/plain": [
              "<Figure size 432x288 with 1 Axes>"
            ]
          },
          "metadata": {
            "tags": [],
            "needs_background": "light"
          }
        },
        {
          "output_type": "execute_result",
          "data": {
            "text/plain": [
              "(array([ 0,  4,  5,  6,  7, 15, 16, 19]),)"
            ]
          },
          "metadata": {
            "tags": []
          },
          "execution_count": 31
        }
      ]
    },
    {
      "cell_type": "code",
      "metadata": {
        "colab": {
          "base_uri": "https://localhost:8080/"
        },
        "id": "XsyygJm41y10",
        "outputId": "cfe14006-bd5f-4455-ee53-b207902b097a"
      },
      "source": [
        "# Estimate prediction accuracy using the test data\n",
        "X_sel_train = sfs.transform(X_train)\n",
        "regr_sel = linear_model.LinearRegression()\n",
        "regr_sel.fit(X_sel_train, y_train)\n",
        "\n",
        "X_sel_test = sfs.transform(X_test)\n",
        "y_pred = regr_sel.predict(X_sel_test)\n",
        "\n",
        "# Print the MSE and R2\n",
        "print(metrics.mean_squared_error(y_test, y_pred))\n",
        "print(metrics.r2_score(y_test, y_pred))"
      ],
      "execution_count": 49,
      "outputs": [
        {
          "output_type": "stream",
          "text": [
            "11220.909550569735\n",
            "0.6621391743429036\n"
          ],
          "name": "stdout"
        }
      ]
    },
    {
      "cell_type": "code",
      "metadata": {
        "colab": {
          "base_uri": "https://localhost:8080/"
        },
        "id": "SyHyGvbgNpKZ",
        "outputId": "b1d27b5b-c532-4d36-8aa2-9d0a608fa970"
      },
      "source": [
        "# Perform variable selection using 2. Lasso\n",
        "\n",
        "alphas = np.logspace(-5, 1, 10)\n",
        "lassoreg = linear_model.Lasso()\n",
        "scores = [lassoreg.set_params(alpha=alpha).fit(X_train, y_train).score(X_test, y_test) for alpha in alphas] # Alert! This is not the best practice!\n",
        "best_alpha = alphas[scores.index(max(scores))]\n",
        "lassoreg.alpha = best_alpha\n",
        "lassoreg.fit(X_train, y_train)\n",
        "\n",
        "print(best_alpha)\n",
        "print(lassoreg.coef_)"
      ],
      "execution_count": 50,
      "outputs": [
        {
          "output_type": "stream",
          "text": [
            "2.154434690031882\n",
            "[68.96738829  0.         -4.16241857  1.51786195 23.59307739 76.69657178\n",
            " 37.73825468 24.55751077 -5.04496327 -0.33167756 -1.52038431  5.80950925\n",
            "  4.08835118 -0.         -8.8475231  44.01442005 65.26161274 -1.42205024\n",
            "  0.36084627 40.17705527]\n"
          ],
          "name": "stdout"
        }
      ]
    },
    {
      "cell_type": "code",
      "metadata": {
        "colab": {
          "base_uri": "https://localhost:8080/"
        },
        "id": "v9QpYW6JRsfK",
        "outputId": "2622775f-cc07-4c31-ccc4-aaaab1b14423"
      },
      "source": [
        "# Estimte the prediction accuracy using the test data\n",
        "y_pred = lassoreg.predict(X_test)\n",
        "\n",
        "# Print the MSE, R2\n",
        "print(metrics.mean_squared_error(y_test, y_pred))\n",
        "print(metrics.r2_score(y_test, y_pred))"
      ],
      "execution_count": 51,
      "outputs": [
        {
          "output_type": "stream",
          "text": [
            "11554.666912789442\n",
            "0.6520897627991701\n"
          ],
          "name": "stdout"
        }
      ]
    }
  ]
}