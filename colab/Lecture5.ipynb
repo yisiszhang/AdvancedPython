{
  "nbformat": 4,
  "nbformat_minor": 0,
  "metadata": {
    "colab": {
      "name": "Lecture5.ipynb",
      "provenance": [],
      "collapsed_sections": [],
      "authorship_tag": "ABX9TyMzQ4+XIAr4IdLSyLAX0bRv",
      "include_colab_link": true
    },
    "kernelspec": {
      "name": "python3",
      "display_name": "Python 3"
    },
    "language_info": {
      "name": "python"
    },
    "widgets": {
      "application/vnd.jupyter.widget-state+json": {
        "dda8723e4b3a4ac18f46dd8da4a2f60a": {
          "model_module": "@jupyter-widgets/controls",
          "model_name": "HBoxModel",
          "model_module_version": "1.5.0",
          "state": {
            "_dom_classes": [],
            "_model_module": "@jupyter-widgets/controls",
            "_model_module_version": "1.5.0",
            "_model_name": "HBoxModel",
            "_view_count": null,
            "_view_module": "@jupyter-widgets/controls",
            "_view_module_version": "1.5.0",
            "_view_name": "HBoxView",
            "box_style": "",
            "children": [
              "IPY_MODEL_f78a61d15da844ae88ac39d34e5f1478",
              "IPY_MODEL_bb4ab1aa78af4e39863619db1af76590",
              "IPY_MODEL_6ad2610abe544552bcbca5f623edf7a0"
            ],
            "layout": "IPY_MODEL_d2ac7d808b3a4005a3654c4e57b6c3fe"
          }
        },
        "f78a61d15da844ae88ac39d34e5f1478": {
          "model_module": "@jupyter-widgets/controls",
          "model_name": "HTMLModel",
          "model_module_version": "1.5.0",
          "state": {
            "_dom_classes": [],
            "_model_module": "@jupyter-widgets/controls",
            "_model_module_version": "1.5.0",
            "_model_name": "HTMLModel",
            "_view_count": null,
            "_view_module": "@jupyter-widgets/controls",
            "_view_module_version": "1.5.0",
            "_view_name": "HTMLView",
            "description": "",
            "description_tooltip": null,
            "layout": "IPY_MODEL_116f5c0212ce4e4ca3066d53dc31b2a2",
            "placeholder": "​",
            "style": "IPY_MODEL_ef210d2705824c1f820c1689f16a5066",
            "value": ""
          }
        },
        "bb4ab1aa78af4e39863619db1af76590": {
          "model_module": "@jupyter-widgets/controls",
          "model_name": "FloatProgressModel",
          "model_module_version": "1.5.0",
          "state": {
            "_dom_classes": [],
            "_model_module": "@jupyter-widgets/controls",
            "_model_module_version": "1.5.0",
            "_model_name": "FloatProgressModel",
            "_view_count": null,
            "_view_module": "@jupyter-widgets/controls",
            "_view_module_version": "1.5.0",
            "_view_name": "ProgressView",
            "bar_style": "success",
            "description": "",
            "description_tooltip": null,
            "layout": "IPY_MODEL_b0e11bae3bb3468b83edcf5f8841f945",
            "max": 9912422,
            "min": 0,
            "orientation": "horizontal",
            "style": "IPY_MODEL_334580a7fd2647fe93800dc1e0551a40",
            "value": 9912422
          }
        },
        "6ad2610abe544552bcbca5f623edf7a0": {
          "model_module": "@jupyter-widgets/controls",
          "model_name": "HTMLModel",
          "model_module_version": "1.5.0",
          "state": {
            "_dom_classes": [],
            "_model_module": "@jupyter-widgets/controls",
            "_model_module_version": "1.5.0",
            "_model_name": "HTMLModel",
            "_view_count": null,
            "_view_module": "@jupyter-widgets/controls",
            "_view_module_version": "1.5.0",
            "_view_name": "HTMLView",
            "description": "",
            "description_tooltip": null,
            "layout": "IPY_MODEL_0c9effb4402a46f7a492368660b2b169",
            "placeholder": "​",
            "style": "IPY_MODEL_f196394a557347b0b15347efe4312448",
            "value": " 9913344/? [00:00&lt;00:00, 45739049.37it/s]"
          }
        },
        "d2ac7d808b3a4005a3654c4e57b6c3fe": {
          "model_module": "@jupyter-widgets/base",
          "model_name": "LayoutModel",
          "model_module_version": "1.2.0",
          "state": {
            "_model_module": "@jupyter-widgets/base",
            "_model_module_version": "1.2.0",
            "_model_name": "LayoutModel",
            "_view_count": null,
            "_view_module": "@jupyter-widgets/base",
            "_view_module_version": "1.2.0",
            "_view_name": "LayoutView",
            "align_content": null,
            "align_items": null,
            "align_self": null,
            "border": null,
            "bottom": null,
            "display": null,
            "flex": null,
            "flex_flow": null,
            "grid_area": null,
            "grid_auto_columns": null,
            "grid_auto_flow": null,
            "grid_auto_rows": null,
            "grid_column": null,
            "grid_gap": null,
            "grid_row": null,
            "grid_template_areas": null,
            "grid_template_columns": null,
            "grid_template_rows": null,
            "height": null,
            "justify_content": null,
            "justify_items": null,
            "left": null,
            "margin": null,
            "max_height": null,
            "max_width": null,
            "min_height": null,
            "min_width": null,
            "object_fit": null,
            "object_position": null,
            "order": null,
            "overflow": null,
            "overflow_x": null,
            "overflow_y": null,
            "padding": null,
            "right": null,
            "top": null,
            "visibility": null,
            "width": null
          }
        },
        "116f5c0212ce4e4ca3066d53dc31b2a2": {
          "model_module": "@jupyter-widgets/base",
          "model_name": "LayoutModel",
          "model_module_version": "1.2.0",
          "state": {
            "_model_module": "@jupyter-widgets/base",
            "_model_module_version": "1.2.0",
            "_model_name": "LayoutModel",
            "_view_count": null,
            "_view_module": "@jupyter-widgets/base",
            "_view_module_version": "1.2.0",
            "_view_name": "LayoutView",
            "align_content": null,
            "align_items": null,
            "align_self": null,
            "border": null,
            "bottom": null,
            "display": null,
            "flex": null,
            "flex_flow": null,
            "grid_area": null,
            "grid_auto_columns": null,
            "grid_auto_flow": null,
            "grid_auto_rows": null,
            "grid_column": null,
            "grid_gap": null,
            "grid_row": null,
            "grid_template_areas": null,
            "grid_template_columns": null,
            "grid_template_rows": null,
            "height": null,
            "justify_content": null,
            "justify_items": null,
            "left": null,
            "margin": null,
            "max_height": null,
            "max_width": null,
            "min_height": null,
            "min_width": null,
            "object_fit": null,
            "object_position": null,
            "order": null,
            "overflow": null,
            "overflow_x": null,
            "overflow_y": null,
            "padding": null,
            "right": null,
            "top": null,
            "visibility": null,
            "width": null
          }
        },
        "ef210d2705824c1f820c1689f16a5066": {
          "model_module": "@jupyter-widgets/controls",
          "model_name": "DescriptionStyleModel",
          "model_module_version": "1.5.0",
          "state": {
            "_model_module": "@jupyter-widgets/controls",
            "_model_module_version": "1.5.0",
            "_model_name": "DescriptionStyleModel",
            "_view_count": null,
            "_view_module": "@jupyter-widgets/base",
            "_view_module_version": "1.2.0",
            "_view_name": "StyleView",
            "description_width": ""
          }
        },
        "b0e11bae3bb3468b83edcf5f8841f945": {
          "model_module": "@jupyter-widgets/base",
          "model_name": "LayoutModel",
          "model_module_version": "1.2.0",
          "state": {
            "_model_module": "@jupyter-widgets/base",
            "_model_module_version": "1.2.0",
            "_model_name": "LayoutModel",
            "_view_count": null,
            "_view_module": "@jupyter-widgets/base",
            "_view_module_version": "1.2.0",
            "_view_name": "LayoutView",
            "align_content": null,
            "align_items": null,
            "align_self": null,
            "border": null,
            "bottom": null,
            "display": null,
            "flex": null,
            "flex_flow": null,
            "grid_area": null,
            "grid_auto_columns": null,
            "grid_auto_flow": null,
            "grid_auto_rows": null,
            "grid_column": null,
            "grid_gap": null,
            "grid_row": null,
            "grid_template_areas": null,
            "grid_template_columns": null,
            "grid_template_rows": null,
            "height": null,
            "justify_content": null,
            "justify_items": null,
            "left": null,
            "margin": null,
            "max_height": null,
            "max_width": null,
            "min_height": null,
            "min_width": null,
            "object_fit": null,
            "object_position": null,
            "order": null,
            "overflow": null,
            "overflow_x": null,
            "overflow_y": null,
            "padding": null,
            "right": null,
            "top": null,
            "visibility": null,
            "width": null
          }
        },
        "334580a7fd2647fe93800dc1e0551a40": {
          "model_module": "@jupyter-widgets/controls",
          "model_name": "ProgressStyleModel",
          "model_module_version": "1.5.0",
          "state": {
            "_model_module": "@jupyter-widgets/controls",
            "_model_module_version": "1.5.0",
            "_model_name": "ProgressStyleModel",
            "_view_count": null,
            "_view_module": "@jupyter-widgets/base",
            "_view_module_version": "1.2.0",
            "_view_name": "StyleView",
            "bar_color": null,
            "description_width": ""
          }
        },
        "0c9effb4402a46f7a492368660b2b169": {
          "model_module": "@jupyter-widgets/base",
          "model_name": "LayoutModel",
          "model_module_version": "1.2.0",
          "state": {
            "_model_module": "@jupyter-widgets/base",
            "_model_module_version": "1.2.0",
            "_model_name": "LayoutModel",
            "_view_count": null,
            "_view_module": "@jupyter-widgets/base",
            "_view_module_version": "1.2.0",
            "_view_name": "LayoutView",
            "align_content": null,
            "align_items": null,
            "align_self": null,
            "border": null,
            "bottom": null,
            "display": null,
            "flex": null,
            "flex_flow": null,
            "grid_area": null,
            "grid_auto_columns": null,
            "grid_auto_flow": null,
            "grid_auto_rows": null,
            "grid_column": null,
            "grid_gap": null,
            "grid_row": null,
            "grid_template_areas": null,
            "grid_template_columns": null,
            "grid_template_rows": null,
            "height": null,
            "justify_content": null,
            "justify_items": null,
            "left": null,
            "margin": null,
            "max_height": null,
            "max_width": null,
            "min_height": null,
            "min_width": null,
            "object_fit": null,
            "object_position": null,
            "order": null,
            "overflow": null,
            "overflow_x": null,
            "overflow_y": null,
            "padding": null,
            "right": null,
            "top": null,
            "visibility": null,
            "width": null
          }
        },
        "f196394a557347b0b15347efe4312448": {
          "model_module": "@jupyter-widgets/controls",
          "model_name": "DescriptionStyleModel",
          "model_module_version": "1.5.0",
          "state": {
            "_model_module": "@jupyter-widgets/controls",
            "_model_module_version": "1.5.0",
            "_model_name": "DescriptionStyleModel",
            "_view_count": null,
            "_view_module": "@jupyter-widgets/base",
            "_view_module_version": "1.2.0",
            "_view_name": "StyleView",
            "description_width": ""
          }
        },
        "6dcd362470c743deb1d88dc0f1fd3fcf": {
          "model_module": "@jupyter-widgets/controls",
          "model_name": "HBoxModel",
          "model_module_version": "1.5.0",
          "state": {
            "_dom_classes": [],
            "_model_module": "@jupyter-widgets/controls",
            "_model_module_version": "1.5.0",
            "_model_name": "HBoxModel",
            "_view_count": null,
            "_view_module": "@jupyter-widgets/controls",
            "_view_module_version": "1.5.0",
            "_view_name": "HBoxView",
            "box_style": "",
            "children": [
              "IPY_MODEL_5674d7c1088c49209bf8c08eb4420182",
              "IPY_MODEL_72bded428083480e801a663247849dc4",
              "IPY_MODEL_87fd664306c247ae998b5a3ff1c52e46"
            ],
            "layout": "IPY_MODEL_8a3500b3ec84487dbb2e847d6ba32891"
          }
        },
        "5674d7c1088c49209bf8c08eb4420182": {
          "model_module": "@jupyter-widgets/controls",
          "model_name": "HTMLModel",
          "model_module_version": "1.5.0",
          "state": {
            "_dom_classes": [],
            "_model_module": "@jupyter-widgets/controls",
            "_model_module_version": "1.5.0",
            "_model_name": "HTMLModel",
            "_view_count": null,
            "_view_module": "@jupyter-widgets/controls",
            "_view_module_version": "1.5.0",
            "_view_name": "HTMLView",
            "description": "",
            "description_tooltip": null,
            "layout": "IPY_MODEL_c82d3b9cca9b4440b0dee6af172cb18f",
            "placeholder": "​",
            "style": "IPY_MODEL_452e7f0ba0204067b79e3b4614c23920",
            "value": ""
          }
        },
        "72bded428083480e801a663247849dc4": {
          "model_module": "@jupyter-widgets/controls",
          "model_name": "FloatProgressModel",
          "model_module_version": "1.5.0",
          "state": {
            "_dom_classes": [],
            "_model_module": "@jupyter-widgets/controls",
            "_model_module_version": "1.5.0",
            "_model_name": "FloatProgressModel",
            "_view_count": null,
            "_view_module": "@jupyter-widgets/controls",
            "_view_module_version": "1.5.0",
            "_view_name": "ProgressView",
            "bar_style": "success",
            "description": "",
            "description_tooltip": null,
            "layout": "IPY_MODEL_dd57ac1390494ddeb15233f2270847e7",
            "max": 28881,
            "min": 0,
            "orientation": "horizontal",
            "style": "IPY_MODEL_1e076d11edd74cf4a6bec5fa482d7911",
            "value": 28881
          }
        },
        "87fd664306c247ae998b5a3ff1c52e46": {
          "model_module": "@jupyter-widgets/controls",
          "model_name": "HTMLModel",
          "model_module_version": "1.5.0",
          "state": {
            "_dom_classes": [],
            "_model_module": "@jupyter-widgets/controls",
            "_model_module_version": "1.5.0",
            "_model_name": "HTMLModel",
            "_view_count": null,
            "_view_module": "@jupyter-widgets/controls",
            "_view_module_version": "1.5.0",
            "_view_name": "HTMLView",
            "description": "",
            "description_tooltip": null,
            "layout": "IPY_MODEL_c0d09c650d2e4b22969a2ecba0b7631c",
            "placeholder": "​",
            "style": "IPY_MODEL_47394d389ddc46adbf70525137829199",
            "value": " 29696/? [00:00&lt;00:00, 776492.47it/s]"
          }
        },
        "8a3500b3ec84487dbb2e847d6ba32891": {
          "model_module": "@jupyter-widgets/base",
          "model_name": "LayoutModel",
          "model_module_version": "1.2.0",
          "state": {
            "_model_module": "@jupyter-widgets/base",
            "_model_module_version": "1.2.0",
            "_model_name": "LayoutModel",
            "_view_count": null,
            "_view_module": "@jupyter-widgets/base",
            "_view_module_version": "1.2.0",
            "_view_name": "LayoutView",
            "align_content": null,
            "align_items": null,
            "align_self": null,
            "border": null,
            "bottom": null,
            "display": null,
            "flex": null,
            "flex_flow": null,
            "grid_area": null,
            "grid_auto_columns": null,
            "grid_auto_flow": null,
            "grid_auto_rows": null,
            "grid_column": null,
            "grid_gap": null,
            "grid_row": null,
            "grid_template_areas": null,
            "grid_template_columns": null,
            "grid_template_rows": null,
            "height": null,
            "justify_content": null,
            "justify_items": null,
            "left": null,
            "margin": null,
            "max_height": null,
            "max_width": null,
            "min_height": null,
            "min_width": null,
            "object_fit": null,
            "object_position": null,
            "order": null,
            "overflow": null,
            "overflow_x": null,
            "overflow_y": null,
            "padding": null,
            "right": null,
            "top": null,
            "visibility": null,
            "width": null
          }
        },
        "c82d3b9cca9b4440b0dee6af172cb18f": {
          "model_module": "@jupyter-widgets/base",
          "model_name": "LayoutModel",
          "model_module_version": "1.2.0",
          "state": {
            "_model_module": "@jupyter-widgets/base",
            "_model_module_version": "1.2.0",
            "_model_name": "LayoutModel",
            "_view_count": null,
            "_view_module": "@jupyter-widgets/base",
            "_view_module_version": "1.2.0",
            "_view_name": "LayoutView",
            "align_content": null,
            "align_items": null,
            "align_self": null,
            "border": null,
            "bottom": null,
            "display": null,
            "flex": null,
            "flex_flow": null,
            "grid_area": null,
            "grid_auto_columns": null,
            "grid_auto_flow": null,
            "grid_auto_rows": null,
            "grid_column": null,
            "grid_gap": null,
            "grid_row": null,
            "grid_template_areas": null,
            "grid_template_columns": null,
            "grid_template_rows": null,
            "height": null,
            "justify_content": null,
            "justify_items": null,
            "left": null,
            "margin": null,
            "max_height": null,
            "max_width": null,
            "min_height": null,
            "min_width": null,
            "object_fit": null,
            "object_position": null,
            "order": null,
            "overflow": null,
            "overflow_x": null,
            "overflow_y": null,
            "padding": null,
            "right": null,
            "top": null,
            "visibility": null,
            "width": null
          }
        },
        "452e7f0ba0204067b79e3b4614c23920": {
          "model_module": "@jupyter-widgets/controls",
          "model_name": "DescriptionStyleModel",
          "model_module_version": "1.5.0",
          "state": {
            "_model_module": "@jupyter-widgets/controls",
            "_model_module_version": "1.5.0",
            "_model_name": "DescriptionStyleModel",
            "_view_count": null,
            "_view_module": "@jupyter-widgets/base",
            "_view_module_version": "1.2.0",
            "_view_name": "StyleView",
            "description_width": ""
          }
        },
        "dd57ac1390494ddeb15233f2270847e7": {
          "model_module": "@jupyter-widgets/base",
          "model_name": "LayoutModel",
          "model_module_version": "1.2.0",
          "state": {
            "_model_module": "@jupyter-widgets/base",
            "_model_module_version": "1.2.0",
            "_model_name": "LayoutModel",
            "_view_count": null,
            "_view_module": "@jupyter-widgets/base",
            "_view_module_version": "1.2.0",
            "_view_name": "LayoutView",
            "align_content": null,
            "align_items": null,
            "align_self": null,
            "border": null,
            "bottom": null,
            "display": null,
            "flex": null,
            "flex_flow": null,
            "grid_area": null,
            "grid_auto_columns": null,
            "grid_auto_flow": null,
            "grid_auto_rows": null,
            "grid_column": null,
            "grid_gap": null,
            "grid_row": null,
            "grid_template_areas": null,
            "grid_template_columns": null,
            "grid_template_rows": null,
            "height": null,
            "justify_content": null,
            "justify_items": null,
            "left": null,
            "margin": null,
            "max_height": null,
            "max_width": null,
            "min_height": null,
            "min_width": null,
            "object_fit": null,
            "object_position": null,
            "order": null,
            "overflow": null,
            "overflow_x": null,
            "overflow_y": null,
            "padding": null,
            "right": null,
            "top": null,
            "visibility": null,
            "width": null
          }
        },
        "1e076d11edd74cf4a6bec5fa482d7911": {
          "model_module": "@jupyter-widgets/controls",
          "model_name": "ProgressStyleModel",
          "model_module_version": "1.5.0",
          "state": {
            "_model_module": "@jupyter-widgets/controls",
            "_model_module_version": "1.5.0",
            "_model_name": "ProgressStyleModel",
            "_view_count": null,
            "_view_module": "@jupyter-widgets/base",
            "_view_module_version": "1.2.0",
            "_view_name": "StyleView",
            "bar_color": null,
            "description_width": ""
          }
        },
        "c0d09c650d2e4b22969a2ecba0b7631c": {
          "model_module": "@jupyter-widgets/base",
          "model_name": "LayoutModel",
          "model_module_version": "1.2.0",
          "state": {
            "_model_module": "@jupyter-widgets/base",
            "_model_module_version": "1.2.0",
            "_model_name": "LayoutModel",
            "_view_count": null,
            "_view_module": "@jupyter-widgets/base",
            "_view_module_version": "1.2.0",
            "_view_name": "LayoutView",
            "align_content": null,
            "align_items": null,
            "align_self": null,
            "border": null,
            "bottom": null,
            "display": null,
            "flex": null,
            "flex_flow": null,
            "grid_area": null,
            "grid_auto_columns": null,
            "grid_auto_flow": null,
            "grid_auto_rows": null,
            "grid_column": null,
            "grid_gap": null,
            "grid_row": null,
            "grid_template_areas": null,
            "grid_template_columns": null,
            "grid_template_rows": null,
            "height": null,
            "justify_content": null,
            "justify_items": null,
            "left": null,
            "margin": null,
            "max_height": null,
            "max_width": null,
            "min_height": null,
            "min_width": null,
            "object_fit": null,
            "object_position": null,
            "order": null,
            "overflow": null,
            "overflow_x": null,
            "overflow_y": null,
            "padding": null,
            "right": null,
            "top": null,
            "visibility": null,
            "width": null
          }
        },
        "47394d389ddc46adbf70525137829199": {
          "model_module": "@jupyter-widgets/controls",
          "model_name": "DescriptionStyleModel",
          "model_module_version": "1.5.0",
          "state": {
            "_model_module": "@jupyter-widgets/controls",
            "_model_module_version": "1.5.0",
            "_model_name": "DescriptionStyleModel",
            "_view_count": null,
            "_view_module": "@jupyter-widgets/base",
            "_view_module_version": "1.2.0",
            "_view_name": "StyleView",
            "description_width": ""
          }
        },
        "cd35daa94da648d194b9a9be67129e24": {
          "model_module": "@jupyter-widgets/controls",
          "model_name": "HBoxModel",
          "model_module_version": "1.5.0",
          "state": {
            "_dom_classes": [],
            "_model_module": "@jupyter-widgets/controls",
            "_model_module_version": "1.5.0",
            "_model_name": "HBoxModel",
            "_view_count": null,
            "_view_module": "@jupyter-widgets/controls",
            "_view_module_version": "1.5.0",
            "_view_name": "HBoxView",
            "box_style": "",
            "children": [
              "IPY_MODEL_e4d3504a56474c5389ac46c08b7d924b",
              "IPY_MODEL_95c197bc80484b64af676878070c8518",
              "IPY_MODEL_423488c1230544fda257f29cf4eb31b7"
            ],
            "layout": "IPY_MODEL_c539c1a8f9a24269a793ae63e43df6f7"
          }
        },
        "e4d3504a56474c5389ac46c08b7d924b": {
          "model_module": "@jupyter-widgets/controls",
          "model_name": "HTMLModel",
          "model_module_version": "1.5.0",
          "state": {
            "_dom_classes": [],
            "_model_module": "@jupyter-widgets/controls",
            "_model_module_version": "1.5.0",
            "_model_name": "HTMLModel",
            "_view_count": null,
            "_view_module": "@jupyter-widgets/controls",
            "_view_module_version": "1.5.0",
            "_view_name": "HTMLView",
            "description": "",
            "description_tooltip": null,
            "layout": "IPY_MODEL_e7a1231603654314a96989605fef670d",
            "placeholder": "​",
            "style": "IPY_MODEL_48520cd3be214f929ec2c6facf736c69",
            "value": ""
          }
        },
        "95c197bc80484b64af676878070c8518": {
          "model_module": "@jupyter-widgets/controls",
          "model_name": "FloatProgressModel",
          "model_module_version": "1.5.0",
          "state": {
            "_dom_classes": [],
            "_model_module": "@jupyter-widgets/controls",
            "_model_module_version": "1.5.0",
            "_model_name": "FloatProgressModel",
            "_view_count": null,
            "_view_module": "@jupyter-widgets/controls",
            "_view_module_version": "1.5.0",
            "_view_name": "ProgressView",
            "bar_style": "success",
            "description": "",
            "description_tooltip": null,
            "layout": "IPY_MODEL_e71f381e4aa24fb6a99dd58eab179808",
            "max": 1648877,
            "min": 0,
            "orientation": "horizontal",
            "style": "IPY_MODEL_89363e9a884e486f867b4dc47b408713",
            "value": 1648877
          }
        },
        "423488c1230544fda257f29cf4eb31b7": {
          "model_module": "@jupyter-widgets/controls",
          "model_name": "HTMLModel",
          "model_module_version": "1.5.0",
          "state": {
            "_dom_classes": [],
            "_model_module": "@jupyter-widgets/controls",
            "_model_module_version": "1.5.0",
            "_model_name": "HTMLModel",
            "_view_count": null,
            "_view_module": "@jupyter-widgets/controls",
            "_view_module_version": "1.5.0",
            "_view_name": "HTMLView",
            "description": "",
            "description_tooltip": null,
            "layout": "IPY_MODEL_a9309ee6ea884d26b17a88a8f42fad8e",
            "placeholder": "​",
            "style": "IPY_MODEL_42d188a9a25d4696ae4f3aef0f7d912d",
            "value": " 1649664/? [00:00&lt;00:00, 3475506.73it/s]"
          }
        },
        "c539c1a8f9a24269a793ae63e43df6f7": {
          "model_module": "@jupyter-widgets/base",
          "model_name": "LayoutModel",
          "model_module_version": "1.2.0",
          "state": {
            "_model_module": "@jupyter-widgets/base",
            "_model_module_version": "1.2.0",
            "_model_name": "LayoutModel",
            "_view_count": null,
            "_view_module": "@jupyter-widgets/base",
            "_view_module_version": "1.2.0",
            "_view_name": "LayoutView",
            "align_content": null,
            "align_items": null,
            "align_self": null,
            "border": null,
            "bottom": null,
            "display": null,
            "flex": null,
            "flex_flow": null,
            "grid_area": null,
            "grid_auto_columns": null,
            "grid_auto_flow": null,
            "grid_auto_rows": null,
            "grid_column": null,
            "grid_gap": null,
            "grid_row": null,
            "grid_template_areas": null,
            "grid_template_columns": null,
            "grid_template_rows": null,
            "height": null,
            "justify_content": null,
            "justify_items": null,
            "left": null,
            "margin": null,
            "max_height": null,
            "max_width": null,
            "min_height": null,
            "min_width": null,
            "object_fit": null,
            "object_position": null,
            "order": null,
            "overflow": null,
            "overflow_x": null,
            "overflow_y": null,
            "padding": null,
            "right": null,
            "top": null,
            "visibility": null,
            "width": null
          }
        },
        "e7a1231603654314a96989605fef670d": {
          "model_module": "@jupyter-widgets/base",
          "model_name": "LayoutModel",
          "model_module_version": "1.2.0",
          "state": {
            "_model_module": "@jupyter-widgets/base",
            "_model_module_version": "1.2.0",
            "_model_name": "LayoutModel",
            "_view_count": null,
            "_view_module": "@jupyter-widgets/base",
            "_view_module_version": "1.2.0",
            "_view_name": "LayoutView",
            "align_content": null,
            "align_items": null,
            "align_self": null,
            "border": null,
            "bottom": null,
            "display": null,
            "flex": null,
            "flex_flow": null,
            "grid_area": null,
            "grid_auto_columns": null,
            "grid_auto_flow": null,
            "grid_auto_rows": null,
            "grid_column": null,
            "grid_gap": null,
            "grid_row": null,
            "grid_template_areas": null,
            "grid_template_columns": null,
            "grid_template_rows": null,
            "height": null,
            "justify_content": null,
            "justify_items": null,
            "left": null,
            "margin": null,
            "max_height": null,
            "max_width": null,
            "min_height": null,
            "min_width": null,
            "object_fit": null,
            "object_position": null,
            "order": null,
            "overflow": null,
            "overflow_x": null,
            "overflow_y": null,
            "padding": null,
            "right": null,
            "top": null,
            "visibility": null,
            "width": null
          }
        },
        "48520cd3be214f929ec2c6facf736c69": {
          "model_module": "@jupyter-widgets/controls",
          "model_name": "DescriptionStyleModel",
          "model_module_version": "1.5.0",
          "state": {
            "_model_module": "@jupyter-widgets/controls",
            "_model_module_version": "1.5.0",
            "_model_name": "DescriptionStyleModel",
            "_view_count": null,
            "_view_module": "@jupyter-widgets/base",
            "_view_module_version": "1.2.0",
            "_view_name": "StyleView",
            "description_width": ""
          }
        },
        "e71f381e4aa24fb6a99dd58eab179808": {
          "model_module": "@jupyter-widgets/base",
          "model_name": "LayoutModel",
          "model_module_version": "1.2.0",
          "state": {
            "_model_module": "@jupyter-widgets/base",
            "_model_module_version": "1.2.0",
            "_model_name": "LayoutModel",
            "_view_count": null,
            "_view_module": "@jupyter-widgets/base",
            "_view_module_version": "1.2.0",
            "_view_name": "LayoutView",
            "align_content": null,
            "align_items": null,
            "align_self": null,
            "border": null,
            "bottom": null,
            "display": null,
            "flex": null,
            "flex_flow": null,
            "grid_area": null,
            "grid_auto_columns": null,
            "grid_auto_flow": null,
            "grid_auto_rows": null,
            "grid_column": null,
            "grid_gap": null,
            "grid_row": null,
            "grid_template_areas": null,
            "grid_template_columns": null,
            "grid_template_rows": null,
            "height": null,
            "justify_content": null,
            "justify_items": null,
            "left": null,
            "margin": null,
            "max_height": null,
            "max_width": null,
            "min_height": null,
            "min_width": null,
            "object_fit": null,
            "object_position": null,
            "order": null,
            "overflow": null,
            "overflow_x": null,
            "overflow_y": null,
            "padding": null,
            "right": null,
            "top": null,
            "visibility": null,
            "width": null
          }
        },
        "89363e9a884e486f867b4dc47b408713": {
          "model_module": "@jupyter-widgets/controls",
          "model_name": "ProgressStyleModel",
          "model_module_version": "1.5.0",
          "state": {
            "_model_module": "@jupyter-widgets/controls",
            "_model_module_version": "1.5.0",
            "_model_name": "ProgressStyleModel",
            "_view_count": null,
            "_view_module": "@jupyter-widgets/base",
            "_view_module_version": "1.2.0",
            "_view_name": "StyleView",
            "bar_color": null,
            "description_width": ""
          }
        },
        "a9309ee6ea884d26b17a88a8f42fad8e": {
          "model_module": "@jupyter-widgets/base",
          "model_name": "LayoutModel",
          "model_module_version": "1.2.0",
          "state": {
            "_model_module": "@jupyter-widgets/base",
            "_model_module_version": "1.2.0",
            "_model_name": "LayoutModel",
            "_view_count": null,
            "_view_module": "@jupyter-widgets/base",
            "_view_module_version": "1.2.0",
            "_view_name": "LayoutView",
            "align_content": null,
            "align_items": null,
            "align_self": null,
            "border": null,
            "bottom": null,
            "display": null,
            "flex": null,
            "flex_flow": null,
            "grid_area": null,
            "grid_auto_columns": null,
            "grid_auto_flow": null,
            "grid_auto_rows": null,
            "grid_column": null,
            "grid_gap": null,
            "grid_row": null,
            "grid_template_areas": null,
            "grid_template_columns": null,
            "grid_template_rows": null,
            "height": null,
            "justify_content": null,
            "justify_items": null,
            "left": null,
            "margin": null,
            "max_height": null,
            "max_width": null,
            "min_height": null,
            "min_width": null,
            "object_fit": null,
            "object_position": null,
            "order": null,
            "overflow": null,
            "overflow_x": null,
            "overflow_y": null,
            "padding": null,
            "right": null,
            "top": null,
            "visibility": null,
            "width": null
          }
        },
        "42d188a9a25d4696ae4f3aef0f7d912d": {
          "model_module": "@jupyter-widgets/controls",
          "model_name": "DescriptionStyleModel",
          "model_module_version": "1.5.0",
          "state": {
            "_model_module": "@jupyter-widgets/controls",
            "_model_module_version": "1.5.0",
            "_model_name": "DescriptionStyleModel",
            "_view_count": null,
            "_view_module": "@jupyter-widgets/base",
            "_view_module_version": "1.2.0",
            "_view_name": "StyleView",
            "description_width": ""
          }
        },
        "a72c53d1a3b440b8a4277233e14500cd": {
          "model_module": "@jupyter-widgets/controls",
          "model_name": "HBoxModel",
          "model_module_version": "1.5.0",
          "state": {
            "_dom_classes": [],
            "_model_module": "@jupyter-widgets/controls",
            "_model_module_version": "1.5.0",
            "_model_name": "HBoxModel",
            "_view_count": null,
            "_view_module": "@jupyter-widgets/controls",
            "_view_module_version": "1.5.0",
            "_view_name": "HBoxView",
            "box_style": "",
            "children": [
              "IPY_MODEL_678f57a0dbef4bc799a56a1546c63f1b",
              "IPY_MODEL_529aa9a5cae04cbfa229f6156b1816dc",
              "IPY_MODEL_63ee16ee6e374592a9e35784cf91cfc8"
            ],
            "layout": "IPY_MODEL_f898748d8c9a487dbe33f18008a5e93e"
          }
        },
        "678f57a0dbef4bc799a56a1546c63f1b": {
          "model_module": "@jupyter-widgets/controls",
          "model_name": "HTMLModel",
          "model_module_version": "1.5.0",
          "state": {
            "_dom_classes": [],
            "_model_module": "@jupyter-widgets/controls",
            "_model_module_version": "1.5.0",
            "_model_name": "HTMLModel",
            "_view_count": null,
            "_view_module": "@jupyter-widgets/controls",
            "_view_module_version": "1.5.0",
            "_view_name": "HTMLView",
            "description": "",
            "description_tooltip": null,
            "layout": "IPY_MODEL_ae76889a655c43f0955a665b283bbaa2",
            "placeholder": "​",
            "style": "IPY_MODEL_7ede9a7543404db68449f7bea06ee0fa",
            "value": ""
          }
        },
        "529aa9a5cae04cbfa229f6156b1816dc": {
          "model_module": "@jupyter-widgets/controls",
          "model_name": "FloatProgressModel",
          "model_module_version": "1.5.0",
          "state": {
            "_dom_classes": [],
            "_model_module": "@jupyter-widgets/controls",
            "_model_module_version": "1.5.0",
            "_model_name": "FloatProgressModel",
            "_view_count": null,
            "_view_module": "@jupyter-widgets/controls",
            "_view_module_version": "1.5.0",
            "_view_name": "ProgressView",
            "bar_style": "success",
            "description": "",
            "description_tooltip": null,
            "layout": "IPY_MODEL_d7915245150049b894db3020d9fda1b3",
            "max": 4542,
            "min": 0,
            "orientation": "horizontal",
            "style": "IPY_MODEL_5b1c27e7bb46419bb9befafd79aa675d",
            "value": 4542
          }
        },
        "63ee16ee6e374592a9e35784cf91cfc8": {
          "model_module": "@jupyter-widgets/controls",
          "model_name": "HTMLModel",
          "model_module_version": "1.5.0",
          "state": {
            "_dom_classes": [],
            "_model_module": "@jupyter-widgets/controls",
            "_model_module_version": "1.5.0",
            "_model_name": "HTMLModel",
            "_view_count": null,
            "_view_module": "@jupyter-widgets/controls",
            "_view_module_version": "1.5.0",
            "_view_name": "HTMLView",
            "description": "",
            "description_tooltip": null,
            "layout": "IPY_MODEL_6e5d246008be48bcaf414da1d7cff07e",
            "placeholder": "​",
            "style": "IPY_MODEL_bf9c52a3892149159bd9cf9459ed2613",
            "value": " 5120/? [00:00&lt;00:00, 109481.15it/s]"
          }
        },
        "f898748d8c9a487dbe33f18008a5e93e": {
          "model_module": "@jupyter-widgets/base",
          "model_name": "LayoutModel",
          "model_module_version": "1.2.0",
          "state": {
            "_model_module": "@jupyter-widgets/base",
            "_model_module_version": "1.2.0",
            "_model_name": "LayoutModel",
            "_view_count": null,
            "_view_module": "@jupyter-widgets/base",
            "_view_module_version": "1.2.0",
            "_view_name": "LayoutView",
            "align_content": null,
            "align_items": null,
            "align_self": null,
            "border": null,
            "bottom": null,
            "display": null,
            "flex": null,
            "flex_flow": null,
            "grid_area": null,
            "grid_auto_columns": null,
            "grid_auto_flow": null,
            "grid_auto_rows": null,
            "grid_column": null,
            "grid_gap": null,
            "grid_row": null,
            "grid_template_areas": null,
            "grid_template_columns": null,
            "grid_template_rows": null,
            "height": null,
            "justify_content": null,
            "justify_items": null,
            "left": null,
            "margin": null,
            "max_height": null,
            "max_width": null,
            "min_height": null,
            "min_width": null,
            "object_fit": null,
            "object_position": null,
            "order": null,
            "overflow": null,
            "overflow_x": null,
            "overflow_y": null,
            "padding": null,
            "right": null,
            "top": null,
            "visibility": null,
            "width": null
          }
        },
        "ae76889a655c43f0955a665b283bbaa2": {
          "model_module": "@jupyter-widgets/base",
          "model_name": "LayoutModel",
          "model_module_version": "1.2.0",
          "state": {
            "_model_module": "@jupyter-widgets/base",
            "_model_module_version": "1.2.0",
            "_model_name": "LayoutModel",
            "_view_count": null,
            "_view_module": "@jupyter-widgets/base",
            "_view_module_version": "1.2.0",
            "_view_name": "LayoutView",
            "align_content": null,
            "align_items": null,
            "align_self": null,
            "border": null,
            "bottom": null,
            "display": null,
            "flex": null,
            "flex_flow": null,
            "grid_area": null,
            "grid_auto_columns": null,
            "grid_auto_flow": null,
            "grid_auto_rows": null,
            "grid_column": null,
            "grid_gap": null,
            "grid_row": null,
            "grid_template_areas": null,
            "grid_template_columns": null,
            "grid_template_rows": null,
            "height": null,
            "justify_content": null,
            "justify_items": null,
            "left": null,
            "margin": null,
            "max_height": null,
            "max_width": null,
            "min_height": null,
            "min_width": null,
            "object_fit": null,
            "object_position": null,
            "order": null,
            "overflow": null,
            "overflow_x": null,
            "overflow_y": null,
            "padding": null,
            "right": null,
            "top": null,
            "visibility": null,
            "width": null
          }
        },
        "7ede9a7543404db68449f7bea06ee0fa": {
          "model_module": "@jupyter-widgets/controls",
          "model_name": "DescriptionStyleModel",
          "model_module_version": "1.5.0",
          "state": {
            "_model_module": "@jupyter-widgets/controls",
            "_model_module_version": "1.5.0",
            "_model_name": "DescriptionStyleModel",
            "_view_count": null,
            "_view_module": "@jupyter-widgets/base",
            "_view_module_version": "1.2.0",
            "_view_name": "StyleView",
            "description_width": ""
          }
        },
        "d7915245150049b894db3020d9fda1b3": {
          "model_module": "@jupyter-widgets/base",
          "model_name": "LayoutModel",
          "model_module_version": "1.2.0",
          "state": {
            "_model_module": "@jupyter-widgets/base",
            "_model_module_version": "1.2.0",
            "_model_name": "LayoutModel",
            "_view_count": null,
            "_view_module": "@jupyter-widgets/base",
            "_view_module_version": "1.2.0",
            "_view_name": "LayoutView",
            "align_content": null,
            "align_items": null,
            "align_self": null,
            "border": null,
            "bottom": null,
            "display": null,
            "flex": null,
            "flex_flow": null,
            "grid_area": null,
            "grid_auto_columns": null,
            "grid_auto_flow": null,
            "grid_auto_rows": null,
            "grid_column": null,
            "grid_gap": null,
            "grid_row": null,
            "grid_template_areas": null,
            "grid_template_columns": null,
            "grid_template_rows": null,
            "height": null,
            "justify_content": null,
            "justify_items": null,
            "left": null,
            "margin": null,
            "max_height": null,
            "max_width": null,
            "min_height": null,
            "min_width": null,
            "object_fit": null,
            "object_position": null,
            "order": null,
            "overflow": null,
            "overflow_x": null,
            "overflow_y": null,
            "padding": null,
            "right": null,
            "top": null,
            "visibility": null,
            "width": null
          }
        },
        "5b1c27e7bb46419bb9befafd79aa675d": {
          "model_module": "@jupyter-widgets/controls",
          "model_name": "ProgressStyleModel",
          "model_module_version": "1.5.0",
          "state": {
            "_model_module": "@jupyter-widgets/controls",
            "_model_module_version": "1.5.0",
            "_model_name": "ProgressStyleModel",
            "_view_count": null,
            "_view_module": "@jupyter-widgets/base",
            "_view_module_version": "1.2.0",
            "_view_name": "StyleView",
            "bar_color": null,
            "description_width": ""
          }
        },
        "6e5d246008be48bcaf414da1d7cff07e": {
          "model_module": "@jupyter-widgets/base",
          "model_name": "LayoutModel",
          "model_module_version": "1.2.0",
          "state": {
            "_model_module": "@jupyter-widgets/base",
            "_model_module_version": "1.2.0",
            "_model_name": "LayoutModel",
            "_view_count": null,
            "_view_module": "@jupyter-widgets/base",
            "_view_module_version": "1.2.0",
            "_view_name": "LayoutView",
            "align_content": null,
            "align_items": null,
            "align_self": null,
            "border": null,
            "bottom": null,
            "display": null,
            "flex": null,
            "flex_flow": null,
            "grid_area": null,
            "grid_auto_columns": null,
            "grid_auto_flow": null,
            "grid_auto_rows": null,
            "grid_column": null,
            "grid_gap": null,
            "grid_row": null,
            "grid_template_areas": null,
            "grid_template_columns": null,
            "grid_template_rows": null,
            "height": null,
            "justify_content": null,
            "justify_items": null,
            "left": null,
            "margin": null,
            "max_height": null,
            "max_width": null,
            "min_height": null,
            "min_width": null,
            "object_fit": null,
            "object_position": null,
            "order": null,
            "overflow": null,
            "overflow_x": null,
            "overflow_y": null,
            "padding": null,
            "right": null,
            "top": null,
            "visibility": null,
            "width": null
          }
        },
        "bf9c52a3892149159bd9cf9459ed2613": {
          "model_module": "@jupyter-widgets/controls",
          "model_name": "DescriptionStyleModel",
          "model_module_version": "1.5.0",
          "state": {
            "_model_module": "@jupyter-widgets/controls",
            "_model_module_version": "1.5.0",
            "_model_name": "DescriptionStyleModel",
            "_view_count": null,
            "_view_module": "@jupyter-widgets/base",
            "_view_module_version": "1.2.0",
            "_view_name": "StyleView",
            "description_width": ""
          }
        }
      }
    }
  },
  "cells": [
    {
      "cell_type": "markdown",
      "metadata": {
        "id": "view-in-github",
        "colab_type": "text"
      },
      "source": [
        "<a href=\"https://colab.research.google.com/github/yisiszhang/AdvancedPython/blob/main/colab/Lecture5.ipynb\" target=\"_parent\"><img src=\"https://colab.research.google.com/assets/colab-badge.svg\" alt=\"Open In Colab\"/></a>"
      ]
    },
    {
      "cell_type": "markdown",
      "source": [
        "# **Lecture 5: Neural network I**"
      ],
      "metadata": {
        "id": "GfMNYVfu97t8"
      }
    },
    {
      "cell_type": "markdown",
      "source": [
        "# 5.1 Multidimensional data and nonlinear classification\n",
        "Neural network is desirable for solving complex *classification* tasks. Why?"
      ],
      "metadata": {
        "id": "Dt8wW6pv-J82"
      }
    },
    {
      "cell_type": "code",
      "source": [
        "import numpy as np\n",
        "import matplotlib.pyplot as plt\n",
        "\n",
        "import torch\n",
        "import torch.nn as nn\n",
        "import torch.optim as optim"
      ],
      "metadata": {
        "id": "7CX9wAmr-JmM"
      },
      "execution_count": 2,
      "outputs": []
    },
    {
      "cell_type": "markdown",
      "source": [
        "The MNIST database of handwritten digits has a training set of 60,000 examples, and a test set of 10,000 examples. It is a subset of a larger set available from NIST. The digits have been size-normalized and centered in a fixed-size image.\n",
        "http://yann.lecun.com/exdb/mnist/"
      ],
      "metadata": {
        "id": "uMFE3dEwD5AK"
      }
    },
    {
      "cell_type": "code",
      "execution_count": null,
      "metadata": {
        "id": "jw_WUQF5E4sD",
        "colab": {
          "base_uri": "https://localhost:8080/",
          "height": 487,
          "referenced_widgets": [
            "dda8723e4b3a4ac18f46dd8da4a2f60a",
            "f78a61d15da844ae88ac39d34e5f1478",
            "bb4ab1aa78af4e39863619db1af76590",
            "6ad2610abe544552bcbca5f623edf7a0",
            "d2ac7d808b3a4005a3654c4e57b6c3fe",
            "116f5c0212ce4e4ca3066d53dc31b2a2",
            "ef210d2705824c1f820c1689f16a5066",
            "b0e11bae3bb3468b83edcf5f8841f945",
            "334580a7fd2647fe93800dc1e0551a40",
            "0c9effb4402a46f7a492368660b2b169",
            "f196394a557347b0b15347efe4312448",
            "6dcd362470c743deb1d88dc0f1fd3fcf",
            "5674d7c1088c49209bf8c08eb4420182",
            "72bded428083480e801a663247849dc4",
            "87fd664306c247ae998b5a3ff1c52e46",
            "8a3500b3ec84487dbb2e847d6ba32891",
            "c82d3b9cca9b4440b0dee6af172cb18f",
            "452e7f0ba0204067b79e3b4614c23920",
            "dd57ac1390494ddeb15233f2270847e7",
            "1e076d11edd74cf4a6bec5fa482d7911",
            "c0d09c650d2e4b22969a2ecba0b7631c",
            "47394d389ddc46adbf70525137829199",
            "cd35daa94da648d194b9a9be67129e24",
            "e4d3504a56474c5389ac46c08b7d924b",
            "95c197bc80484b64af676878070c8518",
            "423488c1230544fda257f29cf4eb31b7",
            "c539c1a8f9a24269a793ae63e43df6f7",
            "e7a1231603654314a96989605fef670d",
            "48520cd3be214f929ec2c6facf736c69",
            "e71f381e4aa24fb6a99dd58eab179808",
            "89363e9a884e486f867b4dc47b408713",
            "a9309ee6ea884d26b17a88a8f42fad8e",
            "42d188a9a25d4696ae4f3aef0f7d912d",
            "a72c53d1a3b440b8a4277233e14500cd",
            "678f57a0dbef4bc799a56a1546c63f1b",
            "529aa9a5cae04cbfa229f6156b1816dc",
            "63ee16ee6e374592a9e35784cf91cfc8",
            "f898748d8c9a487dbe33f18008a5e93e",
            "ae76889a655c43f0955a665b283bbaa2",
            "7ede9a7543404db68449f7bea06ee0fa",
            "d7915245150049b894db3020d9fda1b3",
            "5b1c27e7bb46419bb9befafd79aa675d",
            "6e5d246008be48bcaf414da1d7cff07e",
            "bf9c52a3892149159bd9cf9459ed2613"
          ]
        },
        "outputId": "7dfb3b65-faaa-4457-986f-6b6d8365d03c"
      },
      "outputs": [
        {
          "output_type": "stream",
          "name": "stdout",
          "text": [
            "Downloading http://yann.lecun.com/exdb/mnist/train-images-idx3-ubyte.gz\n",
            "Downloading http://yann.lecun.com/exdb/mnist/train-images-idx3-ubyte.gz to ./MNIST/raw/train-images-idx3-ubyte.gz\n"
          ]
        },
        {
          "output_type": "display_data",
          "data": {
            "text/plain": [
              "  0%|          | 0/9912422 [00:00<?, ?it/s]"
            ],
            "application/vnd.jupyter.widget-view+json": {
              "version_major": 2,
              "version_minor": 0,
              "model_id": "dda8723e4b3a4ac18f46dd8da4a2f60a"
            }
          },
          "metadata": {}
        },
        {
          "output_type": "stream",
          "name": "stdout",
          "text": [
            "Extracting ./MNIST/raw/train-images-idx3-ubyte.gz to ./MNIST/raw\n",
            "\n",
            "Downloading http://yann.lecun.com/exdb/mnist/train-labels-idx1-ubyte.gz\n",
            "Downloading http://yann.lecun.com/exdb/mnist/train-labels-idx1-ubyte.gz to ./MNIST/raw/train-labels-idx1-ubyte.gz\n"
          ]
        },
        {
          "output_type": "display_data",
          "data": {
            "text/plain": [
              "  0%|          | 0/28881 [00:00<?, ?it/s]"
            ],
            "application/vnd.jupyter.widget-view+json": {
              "version_major": 2,
              "version_minor": 0,
              "model_id": "6dcd362470c743deb1d88dc0f1fd3fcf"
            }
          },
          "metadata": {}
        },
        {
          "output_type": "stream",
          "name": "stdout",
          "text": [
            "Extracting ./MNIST/raw/train-labels-idx1-ubyte.gz to ./MNIST/raw\n",
            "\n",
            "Downloading http://yann.lecun.com/exdb/mnist/t10k-images-idx3-ubyte.gz\n",
            "Downloading http://yann.lecun.com/exdb/mnist/t10k-images-idx3-ubyte.gz to ./MNIST/raw/t10k-images-idx3-ubyte.gz\n"
          ]
        },
        {
          "output_type": "display_data",
          "data": {
            "text/plain": [
              "  0%|          | 0/1648877 [00:00<?, ?it/s]"
            ],
            "application/vnd.jupyter.widget-view+json": {
              "version_major": 2,
              "version_minor": 0,
              "model_id": "cd35daa94da648d194b9a9be67129e24"
            }
          },
          "metadata": {}
        },
        {
          "output_type": "stream",
          "name": "stdout",
          "text": [
            "Extracting ./MNIST/raw/t10k-images-idx3-ubyte.gz to ./MNIST/raw\n",
            "\n",
            "Downloading http://yann.lecun.com/exdb/mnist/t10k-labels-idx1-ubyte.gz\n",
            "Downloading http://yann.lecun.com/exdb/mnist/t10k-labels-idx1-ubyte.gz to ./MNIST/raw/t10k-labels-idx1-ubyte.gz\n"
          ]
        },
        {
          "output_type": "display_data",
          "data": {
            "text/plain": [
              "  0%|          | 0/4542 [00:00<?, ?it/s]"
            ],
            "application/vnd.jupyter.widget-view+json": {
              "version_major": 2,
              "version_minor": 0,
              "model_id": "a72c53d1a3b440b8a4277233e14500cd"
            }
          },
          "metadata": {}
        },
        {
          "output_type": "stream",
          "name": "stdout",
          "text": [
            "Extracting ./MNIST/raw/t10k-labels-idx1-ubyte.gz to ./MNIST/raw\n",
            "\n",
            "torch.Size([28, 28])\n",
            "tensor(3)\n",
            "60000\n"
          ]
        }
      ],
      "source": [
        "# There are multiple ways to load the MNIST dataset. Here demonstrates how to do it through pytorch\n",
        "from torchvision.datasets import MNIST\n",
        "\n",
        "# load (download if needed) the MNIST dataset\n",
        "mnist_train = MNIST(\".\", train=True, download=True)\n",
        "\n",
        "# select a data # (0-59999) to visualize\n",
        "\n",
        "# each data is a 28x28 image\n",
        "# select a data index\n",
        "ind = 10\n",
        "#print(mnist_train.data[ind]) \n",
        "print(mnist_train.data[ind].shape)\n",
        "\n",
        "# image label\n",
        "print(mnist_train.targets[ind])\n",
        "\n",
        "# total number of data\n",
        "print(len(mnist_train))"
      ]
    },
    {
      "cell_type": "code",
      "source": [
        "# visualize this image\n",
        "plt.imshow(mnist_train.data[ind], cmap=plt.get_cmap('gray'))\n",
        "\n",
        "# show the plot\n",
        "plt.show()"
      ],
      "metadata": {
        "colab": {
          "base_uri": "https://localhost:8080/",
          "height": 265
        },
        "id": "5fhjGvFBFZLA",
        "outputId": "99d96ed0-69f9-430a-fab6-fbb5f400dab9"
      },
      "execution_count": null,
      "outputs": [
        {
          "output_type": "display_data",
          "data": {
            "text/plain": [
              "<Figure size 432x288 with 1 Axes>"
            ],
            "image/png": "[encoded data removed]"
          },
          "metadata": {
            "needs_background": "light"
          }
        }
      ]
    },
    {
      "cell_type": "code",
      "source": [
        "# Each pixel is a feature, how many features?\n",
        "\n",
        "# the tensor datatype essentially works like numpy\n",
        "# can uncomment to convert pytorch tensor to numpy array\n",
        "X = mnist_train.data#.detach().cpu().numpy()\n",
        "n,height,width = X.shape\n",
        "X = X.reshape((n, -1))\n",
        "\n",
        "# check your answer\n",
        "print(X.shape)\n",
        "\n",
        "# can uncomment to convert the labels to numpy\n",
        "y = mnist_train.targets#.detach().cpu().numpy()\n",
        "\n",
        "# Let's plot in the space of two pixels. Can you see clear clusters?\n",
        "plt.scatter(X[:,350], X[:,600], c=y, cmap='Accent')\n",
        "plt.show()"
      ],
      "metadata": {
        "colab": {
          "base_uri": "https://localhost:8080/",
          "height": 283
        },
        "id": "QTjh2ZTMb0_Q",
        "outputId": "a1a5e522-b0c1-48d0-aad4-3043b024b9f1"
      },
      "execution_count": null,
      "outputs": [
        {
          "output_type": "stream",
          "name": "stdout",
          "text": [
            "torch.Size([60000, 784])\n"
          ]
        },
        {
          "output_type": "display_data",
          "data": {
            "text/plain": [
              "<Figure size 432x288 with 1 Axes>"
            ],
            "image/png": "[encoded data removed]"
          },
          "metadata": {
            "needs_background": "light"
          }
        }
      ]
    },
    {
      "cell_type": "markdown",
      "source": [
        "# 5.2 Neural network model\n",
        "Each neuron in the network is a logistic unit with activation function:\n",
        "\n",
        "$h_{\\theta}(x)=\\frac{1}{1+e^{-\\theta^T x}}$"
      ],
      "metadata": {
        "id": "wTixglC4tFEv"
      }
    },
    {
      "cell_type": "code",
      "source": [
        "# define a sigmoid function\n",
        "def sigmoid(x):\n",
        "  return 1/(1+np.exp(-x))\n",
        "\n",
        "# define a logistic unit (neuron)\n",
        "def neuron(x, theta):\n",
        "  # add 1 as the first element\n",
        "  x = np.insert(x, 0, 1)\n",
        "  z = np.dot(x, theta)\n",
        "  return sigmoid(z)"
      ],
      "metadata": {
        "id": "HSiKrZM5fsvW"
      },
      "execution_count": null,
      "outputs": []
    },
    {
      "cell_type": "code",
      "source": [
        "theta = np.zeros((28,28))\n",
        "theta[15:18,5:10] = -1\n",
        "\n",
        "# make some sense of theta\n",
        "plt.imshow(theta)\n",
        "plt.show()\n",
        "\n",
        "# now prepare theta for computing neuron function (vectorize and add bias)\n",
        "bias = 5\n",
        "theta = np.insert(theta.flatten(), 0, bias)\n",
        "\n",
        "# select two data\n",
        "ind1 = 689\n",
        "ind2 = 765\n",
        "x1 = X[ind1,:]\n",
        "x2 = X[ind2,:]\n",
        "\n",
        "# visualize x1 and x2\n",
        "plt.subplot(1,2,1)\n",
        "plt.imshow(x1.reshape(height, width), cmap=plt.get_cmap('gray'))\n",
        "plt.subplot(1,2,2)\n",
        "plt.imshow(x2.reshape(height, width), cmap=plt.get_cmap('gray'))\n",
        "\n",
        "# show the plot\n",
        "plt.show()\n",
        "\n",
        "print(neuron(x1, theta))\n",
        "print(neuron(x2, theta))"
      ],
      "metadata": {
        "colab": {
          "base_uri": "https://localhost:8080/",
          "height": 521
        },
        "id": "ZTzIcsaH2YHM",
        "outputId": "13acc1b2-7ab7-47d9-db7f-93bdfa7d2e3d"
      },
      "execution_count": null,
      "outputs": [
        {
          "output_type": "display_data",
          "data": {
            "text/plain": [
              "<Figure size 432x288 with 1 Axes>"
            ],
            "image/png": "[encoded data removed]"
          },
          "metadata": {
            "needs_background": "light"
          }
        },
        {
          "output_type": "display_data",
          "data": {
            "text/plain": [
              "<Figure size 432x288 with 2 Axes>"
            ],
            "image/png": "[encoded data removed]"
          },
          "metadata": {
            "needs_background": "light"
          }
        },
        {
          "output_type": "stream",
          "name": "stdout",
          "text": [
            "0.0\n",
            "0.9933071490757153\n"
          ]
        },
        {
          "output_type": "stream",
          "name": "stderr",
          "text": [
            "/usr/local/lib/python3.7/dist-packages/ipykernel_launcher.py:3: RuntimeWarning: overflow encountered in exp\n",
            "  This is separate from the ipykernel package so we can avoid doing imports until\n"
          ]
        }
      ]
    },
    {
      "cell_type": "markdown",
      "source": [
        "Pytorch is a python library providing rich tools for tensor computation and (deep) neural networks. The low-level computations are usually taken care of by the package, and so we only need to decide and program on the high-level parameters (like LEGOs). But it would be important to understand the math behind. To start off with, let's make a simple layer with n inputs and m outputs (the linear sum without activation)."
      ],
      "metadata": {
        "id": "AacoPW6XHq6O"
      }
    },
    {
      "cell_type": "code",
      "source": [
        "# number of inputs\n",
        "n = 3\n",
        "# number of outputs\n",
        "m = 2\n",
        "\n",
        "layer = nn.Linear(n, m)"
      ],
      "metadata": {
        "id": "XNE6WUqT7X-s"
      },
      "execution_count": null,
      "outputs": []
    },
    {
      "cell_type": "code",
      "source": [
        "# now we setup a simple network, let's take a look at what it has\n",
        "print(layer)\n",
        "print(layer.weight)\n",
        "print(layer.bias)\n",
        "\n",
        "# what are the rows and columns of weights?"
      ],
      "metadata": {
        "colab": {
          "base_uri": "https://localhost:8080/"
        },
        "id": "X-vXjM0PUfGL",
        "outputId": "cd8c159b-cb35-4c4b-e2b9-df4b57c4fb75"
      },
      "execution_count": null,
      "outputs": [
        {
          "output_type": "stream",
          "name": "stdout",
          "text": [
            "Linear(in_features=3, out_features=2, bias=True)\n",
            "Parameter containing:\n",
            "tensor([[-0.2089,  0.5564, -0.3058],\n",
            "        [ 0.3731,  0.3983,  0.2503]], requires_grad=True)\n",
            "Parameter containing:\n",
            "tensor([-0.4282,  0.1467], requires_grad=True)\n"
          ]
        }
      ]
    },
    {
      "cell_type": "code",
      "source": [
        "# create an input vector\n",
        "x = torch.ones((3,))\n",
        "print(\"input = :\\n\", x)"
      ],
      "metadata": {
        "colab": {
          "base_uri": "https://localhost:8080/"
        },
        "id": "hrEL3gmRaiqP",
        "outputId": "50b9e3e9-1ea0-45c7-eac2-7c78d8fc3a3d"
      },
      "execution_count": null,
      "outputs": [
        {
          "output_type": "stream",
          "name": "stdout",
          "text": [
            "input = :\n",
            " tensor([1., 1., 1.])\n"
          ]
        }
      ]
    },
    {
      "cell_type": "code",
      "source": [
        "# we can evaluate the output through the network with the input using forward() function\n",
        "print(\"output = :\\n\", layer.forward(x))\n",
        "# we can also simply feed x into layer and it should do the same thing as forward()\n",
        "print(layer(x))"
      ],
      "metadata": {
        "colab": {
          "base_uri": "https://localhost:8080/"
        },
        "id": "yQZn-Gnbbw39",
        "outputId": "c0ead9da-7092-4572-de73-dbe59afa110d"
      },
      "execution_count": null,
      "outputs": [
        {
          "output_type": "stream",
          "name": "stdout",
          "text": [
            "output = :\n",
            " tensor([-0.3865,  1.1684], grad_fn=<AddBackward0>)\n",
            "tensor([-0.3865,  1.1684], grad_fn=<AddBackward0>)\n"
          ]
        }
      ]
    },
    {
      "cell_type": "code",
      "source": [
        "# we should be able to calculate this without using forward()\n",
        "# using matrix multiplication from torch\n",
        "print(torch.mm(layer.weight,x.reshape(-1,1))+layer.bias.reshape(-1,1))\n",
        "\n",
        "# or dot product from numpy (torch.dot won't broadcast correctly as numpy)\n",
        "print(np.dot(layer.weight.detach().numpy(),x)+layer.bias.detach().numpy()) "
      ],
      "metadata": {
        "colab": {
          "base_uri": "https://localhost:8080/"
        },
        "id": "09PuTLHbctin",
        "outputId": "197aa631-273a-47ac-83d0-eb899779477e"
      },
      "execution_count": null,
      "outputs": [
        {
          "output_type": "stream",
          "name": "stdout",
          "text": [
            "tensor([[-0.3865],\n",
            "        [ 1.1684]], grad_fn=<AddBackward0>)\n",
            "[-0.38651973  1.1683877 ]\n"
          ]
        }
      ]
    },
    {
      "cell_type": "markdown",
      "source": [
        "The basic elements (layers) can be assembled into a neural network of multiple layers using the nn.Module class. A class is a tempolate for creating objects within which one can define relevant variables and functions."
      ],
      "metadata": {
        "id": "AYvFP8BWKm91"
      }
    },
    {
      "cell_type": "code",
      "source": [
        "# A simplest network consists of a nn.Linear layer and an activition function\n",
        "class Network(nn.Module):\n",
        "  def __init__(self):\n",
        "    super().__init__()\n",
        "    self.linear = nn.Linear(2,1)    # self.linear is used locally\n",
        "    self.activation = nn.Sigmoid()  # self.activation is used locally\n",
        "  \n",
        "  def forward(self, x):\n",
        "    o = self.linear(x)      # calculate the linear output\n",
        "    o = self.activation(o)  # pass the output through the activation function\n",
        "\n",
        "    return o"
      ],
      "metadata": {
        "id": "qw32Qd7sedZi"
      },
      "execution_count": null,
      "outputs": []
    },
    {
      "cell_type": "code",
      "source": [
        "# test this neural network\n",
        "x = torch.ones((2,))\n",
        "net = Network()\n",
        "print(net(x))"
      ],
      "metadata": {
        "id": "fygOOg3YP0Nl",
        "outputId": "1ea4a580-71ec-4a8c-bde4-0610793dc31a",
        "colab": {
          "base_uri": "https://localhost:8080/"
        }
      },
      "execution_count": null,
      "outputs": [
        {
          "output_type": "stream",
          "name": "stdout",
          "text": [
            "tensor([0.3892], grad_fn=<SigmoidBackward0>)\n"
          ]
        }
      ]
    },
    {
      "cell_type": "code",
      "source": [
        "# now create a two layer neural network with one hidden layer and one output layer\n",
        "class Network(nn.Module):\n",
        "  def __init__(self):\n",
        "    super().__init__()\n",
        "    self.linear1 = nn.Linear(3,4)    # first linear layer (hidden)\n",
        "    self.linear2 = nn.Linear(4,2)    # second linear layer (output)\n",
        "    self.activation = nn.Sigmoid()  # self.activation is used locally\n",
        "  \n",
        "  def forward(self, x):\n",
        "    h = self.linear1(x)     # calculate the first linear output\n",
        "    h = self.activation(h)  # pass through the activation function\n",
        "    o = self.linear2(h)     # calculate the second linear output \n",
        "    o = self.activation(o)  # pass through the activation function\n",
        "\n",
        "    return o"
      ],
      "metadata": {
        "id": "qWoP_VgKQMZX"
      },
      "execution_count": null,
      "outputs": []
    },
    {
      "cell_type": "code",
      "source": [
        "x = torch.ones((3,))\n",
        "net = Network()\n",
        "print(net(x))"
      ],
      "metadata": {
        "id": "tvLgNvWHWNgR",
        "outputId": "eddcd51d-3ccb-439e-c027-dbad25518d29",
        "colab": {
          "base_uri": "https://localhost:8080/"
        }
      },
      "execution_count": null,
      "outputs": [
        {
          "output_type": "stream",
          "name": "stdout",
          "text": [
            "tensor([0.4870, 0.4962], grad_fn=<SigmoidBackward0>)\n"
          ]
        }
      ]
    },
    {
      "cell_type": "code",
      "source": [
        "# an even more compact way is using the nn.Sequential()\n",
        "# exactly as the Network class defined by nn.Module\n",
        "net = nn.Sequential(nn.Linear(3,4), nn.Sigmoid(), nn.Linear(4,2), nn.Sigmoid())\n",
        "print(net(x))"
      ],
      "metadata": {
        "id": "vTvJLLiTWdE_",
        "outputId": "4f5c6bee-5b9e-4cc8-f468-e6b9199ba12c",
        "colab": {
          "base_uri": "https://localhost:8080/"
        }
      },
      "execution_count": null,
      "outputs": [
        {
          "output_type": "stream",
          "name": "stdout",
          "text": [
            "tensor([0.4008, 0.5891], grad_fn=<SigmoidBackward0>)\n"
          ]
        }
      ]
    },
    {
      "cell_type": "markdown",
      "source": [
        "# 5.3 Gradient descent\n",
        "The core surrounding model fitting is minimizing a cost function. For linear regression problems, for example, one can calculate the analytical solution for the parameters in one step. However, when the number of features gets larger, the computation can take a very long time. One solution is to do this iteratively through numerical approximation. This practice is widely adopted in training neural networks.\n",
        "\n",
        "In the follows, you will be solving this problem using gradient descent for a simplest case, the linear regression (replace with commented lines for logistic regression), with one input and one output.\n",
        "\n",
        "Try different learning rates."
      ],
      "metadata": {
        "id": "jF-bmWF-Z7dt"
      }
    },
    {
      "cell_type": "code",
      "source": [
        "## define the sigmoid function\n",
        "#def sigmoid(x):\n",
        "#  return 1/(1+np.exp(-x))\n",
        "\n",
        "# define the cost function for logistic regression\n",
        "def cost(h, y):\n",
        "  # h and y are arrays\n",
        "  m = len(y)\n",
        "  #return -(np.dot(np.log(h), y) + np.dot(np.log(1-h), (1-y)))/m\n",
        "  return np.sum((h - y)**2)/m\n",
        "\n",
        "# define the gradient (assuming the bias term is 0 and theta is a scalar)\n",
        "def grad(x,y,theta):\n",
        "  #return np.dot(x, (sigmoid(theta*x)-y))/len(y)\n",
        "  return np.dot(x, ((theta*x)-y))/len(y)\n"
      ],
      "metadata": {
        "id": "vxYVLXJ5gJLf"
      },
      "execution_count": 3,
      "outputs": []
    },
    {
      "cell_type": "code",
      "source": [
        "# create a random array with positive labeled 1 and negative labeled 0 with noise\n",
        "x = np.random.normal(0,2,100)\n",
        "#y = (x+np.random.normal(0,0.2,100))>0\n",
        "theta_true = 1.0;\n",
        "y = theta_true * x + np.random.normal(0,1,100)\n",
        "\n",
        "# initial guess of theta\n",
        "theta = 0.1\n",
        "\n",
        "# learning rate\n",
        "alpha = .1\n",
        "\n",
        "# number of iterations\n",
        "iter = 100\n",
        "\n",
        "# allocate cost function\n",
        "J = np.zeros((iter,))\n",
        "\n",
        "# save the updated theta for each iteration\n",
        "thetas = np.zeros((iter,))\n",
        "\n",
        "for i in range(iter):\n",
        "  thetas[i] = theta\n",
        "  #h = sigmoid(theta*x)\n",
        "  h = theta*x\n",
        "  J[i] = cost(h,y)\n",
        "  dJ = grad(x,y,theta)\n",
        "  theta = theta - alpha * dJ\n",
        "\n",
        "plt.subplot(1,3,1)\n",
        "plt.plot(np.arange(iter), J)\n",
        "plt.title('cost')\n",
        "plt.xlabel('iter')\n",
        "\n",
        "plt.subplot(1,3,2)\n",
        "plt.plot(np.arange(iter), thetas)\n",
        "plt.title('theta')\n",
        "plt.xlabel('iter')\n",
        "\n",
        "plt.subplot(1,3,3)\n",
        "xplot = np.linspace(-8,8,num=50)\n",
        "#plt.plot(xplot, sigmoid(thetas[-1]*xplot))\n",
        "plt.plot(xplot, thetas[-1]*xplot)\n",
        "#plt.scatter(x,y,c=y)\n",
        "plt.scatter(x,y)\n",
        "\n",
        "\n",
        "plt.show()\n",
        "\n",
        "# compare with true value of theta\n",
        "print(thetas[-1])"
      ],
      "metadata": {
        "id": "NFG1trxKjV3M",
        "outputId": "4064a03e-98a2-43bc-dfa8-273d73d2c9bb",
        "colab": {
          "base_uri": "https://localhost:8080/",
          "height": 313
        }
      },
      "execution_count": 19,
      "outputs": [
        {
          "output_type": "display_data",
          "data": {
            "text/plain": [
              "<Figure size 432x288 with 3 Axes>"
            ],
            "image/png": "[encoded data removed]"
          },
          "metadata": {
            "needs_background": "light"
          }
        },
        {
          "output_type": "stream",
          "name": "stdout",
          "text": [
            "1.007813568299599\n"
          ]
        }
      ]
    },
    {
      "cell_type": "markdown",
      "source": [
        "# 5.4 Word2vec model\n",
        "The idea of word embedding is representing words by vectors. The vectors are obtained by training neural networks that maximize the probability of all words that occur in the context."
      ],
      "metadata": {
        "id": "sT8bLvK0R4Iz"
      }
    },
    {
      "cell_type": "code",
      "source": [
        "import nltk\n",
        "import gensim\n",
        "nltk.download('word2vec_sample')"
      ],
      "metadata": {
        "id": "fcTzA7RwNHbG",
        "outputId": "4d2ee15f-515c-4917-ed55-34ea01eb0391",
        "colab": {
          "base_uri": "https://localhost:8080/"
        }
      },
      "execution_count": 1,
      "outputs": [
        {
          "output_type": "stream",
          "name": "stderr",
          "text": [
            "[nltk_data] Downloading package word2vec_sample to /root/nltk_data...\n",
            "[nltk_data]   Unzipping models/word2vec_sample.zip.\n"
          ]
        },
        {
          "output_type": "execute_result",
          "data": {
            "text/plain": [
              "True"
            ]
          },
          "metadata": {},
          "execution_count": 1
        }
      ]
    },
    {
      "cell_type": "code",
      "source": [
        "# the model should then be saved to the root:\n",
        "path = nltk.data.find('/root/nltk_data/models/word2vec_sample/pruned.word2vec.txt')\n",
        "# load the model\n",
        "model = gensim.models.KeyedVectors.load_word2vec_format(str(path), binary=False)"
      ],
      "metadata": {
        "id": "H8TNY2EaN4OV"
      },
      "execution_count": 2,
      "outputs": []
    },
    {
      "cell_type": "code",
      "source": [
        "# words in the model\n",
        "print(len(model.index2word))\n",
        "print(model.index2word[0:10])"
      ],
      "metadata": {
        "id": "Js5dZ7kHRVfO",
        "outputId": "64e87ba6-64fb-40c9-abfc-71beb1517d52",
        "colab": {
          "base_uri": "https://localhost:8080/"
        }
      },
      "execution_count": 32,
      "outputs": [
        {
          "output_type": "stream",
          "name": "stdout",
          "text": [
            "43981\n",
            "['fawn', 'deferment', 'Debts', 'Poetry', 'woods', 'clotted', 'hanging', 'hastily', 'comically', 'localized']\n"
          ]
        }
      ]
    },
    {
      "cell_type": "code",
      "source": [
        "# exemplar word vector\n",
        "print(model['university'].shape)"
      ],
      "metadata": {
        "id": "UzwmyjI0pQZ5",
        "outputId": "432a03f0-a2bd-4f1f-fc4e-745b03f2f517",
        "colab": {
          "base_uri": "https://localhost:8080/"
        }
      },
      "execution_count": 30,
      "outputs": [
        {
          "output_type": "stream",
          "name": "stdout",
          "text": [
            "(300,)\n"
          ]
        }
      ]
    },
    {
      "cell_type": "code",
      "source": [
        "# visualize the embedding using t-sne\n",
        "import numpy as np\n",
        "labels = []\n",
        "count = 0\n",
        "max_count = 100\n",
        "X = np.zeros(shape=(max_count, len(model['university'])))"
      ],
      "metadata": {
        "id": "EqeIO9j5sIlE"
      },
      "execution_count": 39,
      "outputs": []
    },
    {
      "cell_type": "code",
      "source": [
        "for key in model.index2word:\n",
        "  X[count] = model[key]\n",
        "  labels.append(key)\n",
        "  count += 1\n",
        "  if count >= max_count: break"
      ],
      "metadata": {
        "id": "vYBj88lTsbS-"
      },
      "execution_count": 40,
      "outputs": []
    },
    {
      "cell_type": "code",
      "source": [
        "# Reduce to the first 50 PCs\n",
        "from sklearn.decomposition import PCA\n",
        "pca = PCA(n_components=50)\n",
        "X_50 = pca.fit_transform(X)\n",
        "\n",
        "# Using TSNE to further reduce to 2 dimensions\n",
        "from sklearn.manifold import TSNE\n",
        "model_tsne = TSNE(n_components=2, random_state=0)\n",
        "Y = model_tsne.fit_transform(X_50)"
      ],
      "metadata": {
        "id": "M6RNR03DszaN",
        "outputId": "a59be0c7-b5c3-4fd4-9801-f62ce2d84716",
        "colab": {
          "base_uri": "https://localhost:8080/"
        }
      },
      "execution_count": 41,
      "outputs": [
        {
          "output_type": "stream",
          "name": "stderr",
          "text": [
            "/usr/local/lib/python3.7/dist-packages/sklearn/manifold/_t_sne.py:783: FutureWarning: The default initialization in TSNE will change from 'random' to 'pca' in 1.2.\n",
            "  FutureWarning,\n",
            "/usr/local/lib/python3.7/dist-packages/sklearn/manifold/_t_sne.py:793: FutureWarning: The default learning rate in TSNE will change from 200.0 to 'auto' in 1.2.\n",
            "  FutureWarning,\n"
          ]
        }
      ]
    },
    {
      "cell_type": "code",
      "source": [
        "# show the word embeddings\n",
        "import matplotlib.pyplot as plt\n",
        "\n",
        "plt.figure(figsize=(10, 8))\n",
        "plt.scatter(Y[:,0], Y[:,1], 20)\n",
        "\n",
        "# Add labels\n",
        "for label, x, y in zip(labels, Y[:, 0], Y[:, 1]):\n",
        "  plt.annotate(label, xy = (x,y), xytext = (0, 0), textcoords = 'offset points', size = 10)\n",
        "\n",
        "plt.show()"
      ],
      "metadata": {
        "id": "j2K0HiiOs9mn",
        "outputId": "67ed652b-87fc-4459-ff98-9c3388e338b4",
        "colab": {
          "base_uri": "https://localhost:8080/",
          "height": 483
        }
      },
      "execution_count": 44,
      "outputs": [
        {
          "output_type": "display_data",
          "data": {
            "text/plain": [
              "<Figure size 720x576 with 1 Axes>"
            ],
            "image/png": "[encoded data removed]"
          },
          "metadata": {
            "needs_background": "light"
          }
        }
      ]
    },
    {
      "cell_type": "code",
      "source": [
        "model.most_similar(positive=['cereal'])"
      ],
      "metadata": {
        "id": "_i_aDfOHtxWT",
        "outputId": "18c88d0e-cf46-4409-fab5-950446f06ac6",
        "colab": {
          "base_uri": "https://localhost:8080/"
        }
      },
      "execution_count": 45,
      "outputs": [
        {
          "output_type": "execute_result",
          "data": {
            "text/plain": [
              "[('cereals', 0.7669388055801392),\n",
              " ('Cereal', 0.7148815393447876),\n",
              " ('oatmeal', 0.591463565826416),\n",
              " ('snack', 0.5699782967567444),\n",
              " ('milk', 0.5577354431152344),\n",
              " ('chocolate', 0.5417346358299255),\n",
              " ('sugar', 0.5331320762634277),\n",
              " ('ketchup', 0.5263462662696838),\n",
              " ('biscuit', 0.5108516216278076),\n",
              " ('cashews', 0.5099359154701233)]"
            ]
          },
          "metadata": {},
          "execution_count": 45
        }
      ]
    },
    {
      "cell_type": "code",
      "source": [
        "# let's try king - man + woman  = queen\n",
        "model.most_similar(positive=['king', 'woman'], negative=['man'], topn=1)"
      ],
      "metadata": {
        "id": "YhjsLwcduyNH",
        "outputId": "12caa5e2-8b98-4783-c19f-e257d1cf191f",
        "colab": {
          "base_uri": "https://localhost:8080/"
        }
      },
      "execution_count": 49,
      "outputs": [
        {
          "output_type": "execute_result",
          "data": {
            "text/plain": [
              "[('queen', 0.7118192911148071)]"
            ]
          },
          "metadata": {},
          "execution_count": 49
        }
      ]
    }
  ]
}