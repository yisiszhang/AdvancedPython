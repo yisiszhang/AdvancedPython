{
  "nbformat": 4,
  "nbformat_minor": 0,
  "metadata": {
    "colab": {
      "name": "Lecture8.ipynb",
      "provenance": [],
      "authorship_tag": "ABX9TyOIjct/0o+hJvdrF7SAUA7u",
      "include_colab_link": true
    },
    "kernelspec": {
      "name": "python3",
      "display_name": "Python 3"
    },
    "language_info": {
      "name": "python"
    },
    "accelerator": "GPU",
    "gpuClass": "standard"
  },
  "cells": [
    {
      "cell_type": "markdown",
      "metadata": {
        "id": "view-in-github",
        "colab_type": "text"
      },
      "source": [
        "<a href=\"https://colab.research.google.com/github/yisiszhang/AdvancedPython/blob/main/colab/Lecture8.ipynb\" target=\"_parent\"><img src=\"https://colab.research.google.com/assets/colab-badge.svg\" alt=\"Open In Colab\"/></a>"
      ]
    },
    {
      "cell_type": "markdown",
      "source": [
        "# **Lecture 8: Reinforcement learning**"
      ],
      "metadata": {
        "id": "UABXM0PP92gd"
      }
    },
    {
      "cell_type": "code",
      "execution_count": null,
      "metadata": {
        "id": "X-knGEeNDy7b"
      },
      "outputs": [],
      "source": [
        "import numpy as np\n",
        "import matplotlib.pyplot as plt"
      ]
    },
    {
      "cell_type": "code",
      "source": [
        "class gridworld:\n",
        "  def __init__(self, gamma = 1, alpha = 0.2):\n",
        "    self.height = 4\n",
        "    self.width = 4\n",
        "    self.grid = np.arange(self.height * self.width).reshape(self.height,self.width)\n",
        "    self.gamma = gamma\n",
        "    self.alpha = alpha\n",
        "    # define state grid locations\n",
        "    self.state_locations = np.array([[0, 0],\n",
        "                                     [0, 1],\n",
        "                                     [0, 2],\n",
        "                                     [0, 3],\n",
        "                                     [1, 0],\n",
        "                                     [1, 1],\n",
        "                                     [1, 2],\n",
        "                                     [1, 3],\n",
        "                                     [2, 0],\n",
        "                                     [2, 1],\n",
        "                                     [2, 2],\n",
        "                                     [2, 3],\n",
        "                                     [3, 0],\n",
        "                                     [3, 1],\n",
        "                                     [3, 2],\n",
        "                                     [3, 3]])\n",
        "    \n",
        "    # terminal states\n",
        "    self.terminal_states = np.array([0, 15]);\n",
        "\n",
        "    # random start location\n",
        "    self.current_state = 14 #np.random.randint(1,14)\n",
        "\n",
        "    # define actions\n",
        "    self.actions = ['up','down','left','right']\n",
        "\n",
        "    # define rewards (nonterminal states x actions)\n",
        "    self.rewards = np.array([[0, -1, 0, -1],\n",
        "                             [0, -1, 99, -1],\n",
        "                             [0, -1, -1, -1],\n",
        "                             [0, -1, -1, 0],\n",
        "                             [99, -1, 0, -1],\n",
        "                             [-1, -1, -1, -1],\n",
        "                             [-1, -1, -1, -1],\n",
        "                             [-1, -1, -1, 0],\n",
        "                             [-1, -1, 0, -1],\n",
        "                             [-1, -1, -1, -1],\n",
        "                             [-1, -1, -1, -1],\n",
        "                             [-1, 99, -1, 0],\n",
        "                             [-1, 0, 0, -1],\n",
        "                             [-1, 0, -1, -1],\n",
        "                             [-1, 0, -1, 99],\n",
        "                             [-1, 0, -1, 0]])    \n",
        "    # initialize Q table\n",
        "    self.Q = np.zeros_like(self.rewards)\n",
        "    \n",
        "  # get current location on the grid\n",
        "  def get_state_location(self,state):\n",
        "    return self.state_locations[state,:]\n",
        "\n",
        "  # convert grid location to state number\n",
        "  def loc_to_state(self, loc):\n",
        "    return self.grid[loc[0]][loc[1]]\n",
        "    \n",
        "  # get available actions\n",
        "  def get_available_actions(self, state):\n",
        "    return np.argwhere(self.rewards[state,:] != 0).ravel()\n",
        "\n",
        "  # determine if reached terminal\n",
        "  def isterminal(self, state):\n",
        "     if state in self.terminal_states:\n",
        "       return 'terminal'\n",
        "\n",
        "  # move around\n",
        "  def move(self, loc, action):\n",
        "    if action == 'up':\n",
        "      next_loc = np.array([loc[0] - 1, loc[1]])\n",
        "    elif action == 'down':\n",
        "      next_loc = np.array([loc[0] + 1, loc[1]])\n",
        "    elif action == 'left':\n",
        "      next_loc = np.array([loc[0], loc[1] - 1])\n",
        "    elif action == 'right':\n",
        "      next_loc = np.array([loc[0], loc[1] + 1])\n",
        "    #print(action)\n",
        "    if np.any(next_loc < 0) or next_loc[0] >= self.height or next_loc[1] >= self.width:\n",
        "      return loc\n",
        "    else:\n",
        "      return next_loc\n",
        "\n",
        "  # q-learning process\n",
        "  def qlearning(self):\n",
        "    available_actions = self.get_available_actions(self.current_state);      \n",
        "    nextact = np.random.choice(available_actions)\n",
        "    action = self.actions[nextact]\n",
        "    loc = self.get_state_location(self.current_state)\n",
        "    next_loc = self.move(loc, action)\n",
        "    next_state = self.loc_to_state(next_loc)\n",
        "    TD = self.rewards[self.current_state, nextact] + self.gamma * self.Q[next_state, np.argmax(self.Q[next_state,])] - self.Q[self.current_state, nextact]\n",
        "    self.Q[self.current_state, nextact] += self.alpha * TD\n",
        "\n",
        "  # initialize a random state\n",
        "  def init_state(self):\n",
        "    self.current_state = np.random.randint(1,14)\n",
        "\n",
        "  # get optimal path\n",
        "  def get_optimal_path(self, start_location):\n",
        "    start_state = self.loc_to_state(start_location)\n",
        "    path = [start_location]\n",
        "    while self.isterminal(start_state) != 'terminal':\n",
        "      nextact =np.argmax(self.Q[start_state, ])\n",
        "      loc = self.get_state_location(start_state)\n",
        "      next_loc = self.move(loc, self.actions[nextact])\n",
        "      path.append(next_loc)\n",
        "      start_state = self.loc_to_state(next_loc)\n",
        "    return path"
      ],
      "metadata": {
        "id": "QcpUbxYrevMT"
      },
      "execution_count": null,
      "outputs": []
    },
    {
      "cell_type": "code",
      "source": [
        "# initialize parameters\n",
        "gamma = 1 # discount\n",
        "alpha = 0.5 # learning rate\n",
        "ntrials = 100\n",
        "max_steps = 100"
      ],
      "metadata": {
        "id": "Xrd8np0obx3X"
      },
      "execution_count": null,
      "outputs": []
    },
    {
      "cell_type": "code",
      "source": [
        "gw = gridworld(gamma, alpha)\n",
        "for i in range(ntrials):\n",
        "  step = 0\n",
        "  while step < max_steps and gw.isterminal(gw.current_state) != 'terminal':\n",
        "    gw.qlearning()\n",
        "    step += 1\n",
        "  gw.init_state()"
      ],
      "metadata": {
        "id": "vE5q_ZAoBV_C"
      },
      "execution_count": null,
      "outputs": []
    },
    {
      "cell_type": "code",
      "source": [
        "print(gw.Q)"
      ],
      "metadata": {
        "id": "J6nNQcRjGDyy"
      },
      "execution_count": null,
      "outputs": []
    },
    {
      "cell_type": "code",
      "source": [
        "start_location = np.array([2, 2])\n",
        "path = gw.get_optimal_path(start_location)\n",
        "\n",
        "arrows = {\"R\":(1,0), \"L\":(-1,0),\"U\":(0,1),\"D\":(0,-1)}\n",
        "scale = 0.25\n",
        "\n",
        "plt.style.use('seaborn-whitegrid')\n",
        "fig, ax = plt.subplots(figsize=(4, 4))\n",
        "ax.axis([0, 4, 0, 4])\n",
        "ax.set_xticks([0,1,2,3,4])\n",
        "ax.set_yticks([0,1,2,3,4])\n",
        "ax.set_xticklabels([])\n",
        "ax.set_yticklabels([])\n",
        "\n",
        "for i, loc in enumerate(path):\n",
        "  if i < len(path)-1:\n",
        "    dif = path[i+1] - loc\n",
        "    #print(dif)\n",
        "    if dif[0] < 0:\n",
        "      ar = 'U'\n",
        "    elif dif[0] > 0:\n",
        "      ar = 'D'\n",
        "    elif dif[1] < 0:\n",
        "      ar = 'L'\n",
        "    elif dif[1] > 0:\n",
        "      ar = 'R'\n",
        "    print(ar)\n",
        "    plt.arrow(loc[1]+0.5, 4-loc[0]-0.5, scale*arrows[ar][0], scale*arrows[ar][1], head_width=0.1)\n",
        "plt.show()\n"
      ],
      "metadata": {
        "id": "0cHmEOkJMceQ"
      },
      "execution_count": null,
      "outputs": []
    },
    {
      "cell_type": "code",
      "source": [
        "!apt-get install x11-utils > /dev/null 2>&1 \n",
        "!pip install pyglet > /dev/null 2>&1 \n",
        "!apt-get install -y xvfb python-opengl > /dev/null 2>&1\n",
        "!pip install gym pyvirtualdisplay > /dev/null 2>&1"
      ],
      "metadata": {
        "id": "Q3oDnHd_bPFL"
      },
      "execution_count": null,
      "outputs": []
    },
    {
      "cell_type": "code",
      "source": [
        "%matplotlib inline"
      ],
      "metadata": {
        "id": "WqK3y5c2gWHE"
      },
      "execution_count": null,
      "outputs": []
    },
    {
      "cell_type": "code",
      "source": [
        "import gym\n",
        "import math\n",
        "import random\n",
        "import numpy as np\n",
        "import matplotlib\n",
        "import matplotlib.pyplot as plt\n",
        "from collections import namedtuple, deque\n",
        "from itertools import count\n",
        "from PIL import Image\n",
        "\n",
        "from IPython import display as ipythondisplay\n",
        "\n",
        "import torch\n",
        "import torch.nn as nn\n",
        "import torch.optim as optim\n",
        "import torch.nn.functional as F\n",
        "import torchvision.transforms as T"
      ],
      "metadata": {
        "id": "4KchsD_c6C4j"
      },
      "execution_count": null,
      "outputs": []
    },
    {
      "cell_type": "code",
      "source": [
        "from pyvirtualdisplay import Display\n",
        "display = Display(visible=0, size=(400, 300))\n",
        "display.start()"
      ],
      "metadata": {
        "colab": {
          "base_uri": "https://localhost:8080/"
        },
        "id": "dLrYiLQoaCZW",
        "outputId": "045e825b-bf20-4cce-97d6-35656ee39893"
      },
      "execution_count": null,
      "outputs": [
        {
          "output_type": "execute_result",
          "data": {
            "text/plain": [
              "<Display cmd_param=['Xvfb', '-br', '-nolisten', 'tcp', '-screen', '0', '400x300x24', ':1025'] cmd=['Xvfb', '-br', '-nolisten', 'tcp', '-screen', '0', '400x300x24', ':1025'] oserror=None return_code=None stdout=\"None\" stderr=\"None\" timeout_happened=False>"
            ]
          },
          "metadata": {},
          "execution_count": 4
        }
      ]
    },
    {
      "cell_type": "code",
      "source": [
        "env = gym.make('CartPole-v0').unwrapped\n",
        "\n",
        "# set up matplotlib\n",
        "is_ipython = 'inline' in matplotlib.get_backend()\n",
        "#if is_ipython:\n",
        "#    from IPython import display\n",
        "\n",
        "#plt.ion()\n",
        "\n",
        "# if gpu is to be used\n",
        "device = torch.device(\"cuda\" if torch.cuda.is_available() else \"cpu\")\n",
        "print(device.type)"
      ],
      "metadata": {
        "colab": {
          "base_uri": "https://localhost:8080/"
        },
        "id": "MjhgVYT569pF",
        "outputId": "d34c428f-2f93-42cc-91ac-1ce0402dd874"
      },
      "execution_count": null,
      "outputs": [
        {
          "output_type": "stream",
          "name": "stdout",
          "text": [
            "cuda\n"
          ]
        }
      ]
    },
    {
      "cell_type": "code",
      "source": [
        "Transition = namedtuple('Transition',\n",
        "                        ('state', 'action', 'next_state', 'reward'))\n",
        "\n",
        "\n",
        "class ReplayMemory(object):\n",
        "\n",
        "    def __init__(self, capacity):\n",
        "        self.memory = deque([],maxlen=capacity)\n",
        "\n",
        "    def push(self, *args):\n",
        "        \"\"\"Save a transition\"\"\"\n",
        "        self.memory.append(Transition(*args))\n",
        "\n",
        "    def sample(self, batch_size):\n",
        "        return random.sample(self.memory, batch_size)\n",
        "\n",
        "    def __len__(self):\n",
        "        return len(self.memory)"
      ],
      "metadata": {
        "id": "pMKazz5S7obP"
      },
      "execution_count": null,
      "outputs": []
    },
    {
      "cell_type": "code",
      "source": [
        "class DQN(nn.Module):\n",
        "\n",
        "    def __init__(self, h, w, outputs):\n",
        "        super(DQN, self).__init__()\n",
        "        self.conv1 = nn.Conv2d(3, 16, kernel_size=5, stride=2)\n",
        "        self.bn1 = nn.BatchNorm2d(16)\n",
        "        self.conv2 = nn.Conv2d(16, 32, kernel_size=5, stride=2)\n",
        "        self.bn2 = nn.BatchNorm2d(32)\n",
        "        self.conv3 = nn.Conv2d(32, 32, kernel_size=5, stride=2)\n",
        "        self.bn3 = nn.BatchNorm2d(32)\n",
        "\n",
        "        # Number of Linear input connections depends on output of conv2d layers\n",
        "        # and therefore the input image size, so compute it.\n",
        "        def conv2d_size_out(size, kernel_size = 5, stride = 2):\n",
        "            return (size - (kernel_size - 1) - 1) // stride  + 1\n",
        "        convw = conv2d_size_out(conv2d_size_out(conv2d_size_out(w)))\n",
        "        convh = conv2d_size_out(conv2d_size_out(conv2d_size_out(h)))\n",
        "        linear_input_size = convw * convh * 32\n",
        "        self.head = nn.Linear(linear_input_size, outputs)\n",
        "\n",
        "    # Called with either one element to determine next action, or a batch\n",
        "    # during optimization. Returns tensor([[left0exp,right0exp]...]).\n",
        "    def forward(self, x):\n",
        "        x = x.to(device)\n",
        "        x = F.relu(self.bn1(self.conv1(x)))\n",
        "        x = F.relu(self.bn2(self.conv2(x)))\n",
        "        x = F.relu(self.bn3(self.conv3(x)))\n",
        "        return self.head(x.view(x.size(0), -1))"
      ],
      "metadata": {
        "id": "UvtHS8Ir7vAF"
      },
      "execution_count": null,
      "outputs": []
    },
    {
      "cell_type": "code",
      "source": [
        "resize = T.Compose([T.ToPILImage(),\n",
        "                    T.Resize(40, interpolation=Image.CUBIC),\n",
        "                    T.ToTensor()])\n",
        "\n",
        "\n",
        "def get_cart_location(screen_width):\n",
        "    world_width = env.x_threshold * 2\n",
        "    scale = screen_width / world_width\n",
        "    return int(env.state[0] * scale + screen_width / 2.0)  # MIDDLE OF CART\n",
        "\n",
        "def get_screen():\n",
        "    # Returned screen requested by gym is 400x600x3, but is sometimes larger\n",
        "    # such as 800x1200x3. Transpose it into torch order (CHW).\n",
        "    screen = env.render(mode='rgb_array').transpose((2, 0, 1))\n",
        "    # Cart is in the lower half, so strip off the top and bottom of the screen\n",
        "    _, screen_height, screen_width = screen.shape\n",
        "    screen = screen[:, int(screen_height*0.4):int(screen_height * 0.8)]\n",
        "    view_width = int(screen_width * 0.6)\n",
        "    cart_location = get_cart_location(screen_width)\n",
        "    if cart_location < view_width // 2:\n",
        "        slice_range = slice(view_width)\n",
        "    elif cart_location > (screen_width - view_width // 2):\n",
        "        slice_range = slice(-view_width, None)\n",
        "    else:\n",
        "        slice_range = slice(cart_location - view_width // 2,\n",
        "                            cart_location + view_width // 2)\n",
        "    # Strip off the edges, so that we have a square image centered on a cart\n",
        "    screen = screen[:, :, slice_range]\n",
        "    # Convert to float, rescale, convert to torch tensor\n",
        "    # (this doesn't require a copy)\n",
        "    screen = np.ascontiguousarray(screen, dtype=np.float32) / 255\n",
        "    screen = torch.from_numpy(screen)\n",
        "    # Resize, and add a batch dimension (BCHW)\n",
        "    return resize(screen).unsqueeze(0)\n",
        "\n",
        "\n",
        "env.reset()\n",
        "plt.figure()\n",
        "plt.imshow(get_screen().cpu().squeeze(0).permute(1, 2, 0).numpy(),\n",
        "           interpolation='none')\n",
        "plt.title('Example extracted screen')\n",
        "plt.show()"
      ],
      "metadata": {
        "colab": {
          "base_uri": "https://localhost:8080/",
          "height": 249
        },
        "id": "WBaOFxME70F0",
        "outputId": "00e5f52a-30b6-47e4-9152-cea32f2f2004"
      },
      "execution_count": null,
      "outputs": [
        {
          "output_type": "stream",
          "name": "stderr",
          "text": [
            "/usr/local/lib/python3.7/dist-packages/torchvision/transforms/transforms.py:333: UserWarning: Argument interpolation should be of type InterpolationMode instead of int. Please, use InterpolationMode enum.\n",
            "  \"Argument interpolation should be of type InterpolationMode instead of int. \"\n"
          ]
        },
        {
          "output_type": "display_data",
          "data": {
            "text/plain": [
              "<Figure size 432x288 with 1 Axes>"
            ],
            "image/png": "[encoded data removed]"
          },
          "metadata": {
            "needs_background": "light"
          }
        }
      ]
    },
    {
      "cell_type": "code",
      "source": [
        "BATCH_SIZE = 128\n",
        "GAMMA = 0.999\n",
        "EPS_START = 0.9\n",
        "EPS_END = 0.05\n",
        "EPS_DECAY = 200\n",
        "TARGET_UPDATE = 10\n",
        "\n",
        "# Get screen size so that we can initialize layers correctly based on shape\n",
        "# returned from AI gym. Typical dimensions at this point are close to 3x40x90\n",
        "# which is the result of a clamped and down-scaled render buffer in get_screen()\n",
        "init_screen = get_screen()\n",
        "_, _, screen_height, screen_width = init_screen.shape\n",
        "\n",
        "# Get number of actions from gym action space\n",
        "n_actions = env.action_space.n\n",
        "\n",
        "policy_net = DQN(screen_height, screen_width, n_actions).to(device)\n",
        "target_net = DQN(screen_height, screen_width, n_actions).to(device)\n",
        "target_net.load_state_dict(policy_net.state_dict())\n",
        "target_net.eval()\n",
        "\n",
        "optimizer = optim.RMSprop(policy_net.parameters())\n",
        "memory = ReplayMemory(10000)\n",
        "\n",
        "\n",
        "steps_done = 0\n",
        "\n",
        "\n",
        "def select_action(state):\n",
        "    global steps_done\n",
        "    sample = random.random()\n",
        "    eps_threshold = EPS_END + (EPS_START - EPS_END) * \\\n",
        "        math.exp(-1. * steps_done / EPS_DECAY)\n",
        "    steps_done += 1\n",
        "    if sample > eps_threshold:\n",
        "        with torch.no_grad():\n",
        "            # t.max(1) will return largest column value of each row.\n",
        "            # second column on max result is index of where max element was\n",
        "            # found, so we pick action with the larger expected reward.\n",
        "            return policy_net(state).max(1)[1].view(1, 1)\n",
        "    else:\n",
        "        return torch.tensor([[random.randrange(n_actions)]], device=device, dtype=torch.long)\n",
        "\n",
        "\n",
        "episode_durations = []\n",
        "\n",
        "\n",
        "def plot_durations():\n",
        "    plt.figure(2)\n",
        "    plt.clf()\n",
        "    durations_t = torch.tensor(episode_durations, dtype=torch.float)\n",
        "    plt.title('Training...')\n",
        "    plt.xlabel('Episode')\n",
        "    plt.ylabel('Duration')\n",
        "    plt.plot(durations_t.numpy())\n",
        "    # Take 100 episode averages and plot them too\n",
        "    if len(durations_t) >= 100:\n",
        "        means = durations_t.unfold(0, 100, 1).mean(1).view(-1)\n",
        "        means = torch.cat((torch.zeros(99), means))\n",
        "        plt.plot(means.numpy())\n",
        "        print(means)\n",
        "    plt.pause(0.001)  # pause a bit so that plots are updated\n",
        "    #if is_ipython:\n",
        "    #    display.clear_output(wait=True)\n",
        "    #    display.display(plt.gcf())\n",
        "    ipythondisplay.clear_output(wait=True)\n",
        "    ipythondisplay.display(plt.gcf())"
      ],
      "metadata": {
        "id": "FflFvIvJeM1X"
      },
      "execution_count": null,
      "outputs": []
    },
    {
      "cell_type": "code",
      "source": [
        "def optimize_model():\n",
        "    if len(memory) < BATCH_SIZE:\n",
        "        return\n",
        "    transitions = memory.sample(BATCH_SIZE)\n",
        "    # Transpose the batch (see https://stackoverflow.com/a/19343/3343043 for\n",
        "    # detailed explanation). This converts batch-array of Transitions\n",
        "    # to Transition of batch-arrays.\n",
        "    batch = Transition(*zip(*transitions))\n",
        "\n",
        "    # Compute a mask of non-final states and concatenate the batch elements\n",
        "    # (a final state would've been the one after which simulation ended)\n",
        "    non_final_mask = torch.tensor(tuple(map(lambda s: s is not None,\n",
        "                                          batch.next_state)), device=device, dtype=torch.bool)\n",
        "    non_final_next_states = torch.cat([s for s in batch.next_state\n",
        "                                                if s is not None])\n",
        "    state_batch = torch.cat(batch.state)\n",
        "    action_batch = torch.cat(batch.action)\n",
        "    reward_batch = torch.cat(batch.reward)\n",
        "\n",
        "    # Compute Q(s_t, a) - the model computes Q(s_t), then we select the\n",
        "    # columns of actions taken. These are the actions which would've been taken\n",
        "    # for each batch state according to policy_net\n",
        "    state_action_values = policy_net(state_batch).gather(1, action_batch)\n",
        "\n",
        "    # Compute V(s_{t+1}) for all next states.\n",
        "    # Expected values of actions for non_final_next_states are computed based\n",
        "    # on the \"older\" target_net; selecting their best reward with max(1)[0].\n",
        "    # This is merged based on the mask, such that we'll have either the expected\n",
        "    # state value or 0 in case the state was final.\n",
        "    next_state_values = torch.zeros(BATCH_SIZE, device=device)\n",
        "    next_state_values[non_final_mask] = target_net(non_final_next_states).max(1)[0].detach()\n",
        "    # Compute the expected Q values\n",
        "    expected_state_action_values = (next_state_values * GAMMA) + reward_batch\n",
        "\n",
        "    # Compute Huber loss\n",
        "    criterion = nn.SmoothL1Loss()\n",
        "    loss = criterion(state_action_values, expected_state_action_values.unsqueeze(1))\n",
        "\n",
        "    # Optimize the model\n",
        "    optimizer.zero_grad()\n",
        "    loss.backward()\n",
        "    for param in policy_net.parameters():\n",
        "        param.grad.data.clamp_(-1, 1)\n",
        "    optimizer.step()"
      ],
      "metadata": {
        "id": "qq5yU5K3eytK"
      },
      "execution_count": null,
      "outputs": []
    },
    {
      "cell_type": "code",
      "source": [
        "num_episodes = 50\n",
        "for i_episode in range(num_episodes):\n",
        "    # Initialize the environment and state\n",
        "    env.reset()\n",
        "    last_screen = get_screen()\n",
        "    current_screen = get_screen()\n",
        "    state = current_screen - last_screen\n",
        "    for t in count():\n",
        "        # Select and perform an action\n",
        "        action = select_action(state)\n",
        "        _, reward, done, _ = env.step(action.item())\n",
        "        reward = torch.tensor([reward], device=device)\n",
        "\n",
        "        # Observe new state\n",
        "        last_screen = current_screen\n",
        "        current_screen = get_screen()\n",
        "        if not done:\n",
        "            next_state = current_screen - last_screen\n",
        "        else:\n",
        "            next_state = None\n",
        "\n",
        "        # Store the transition in memory\n",
        "        memory.push(state, action, next_state, reward)\n",
        "\n",
        "        # Move to the next state\n",
        "        state = next_state\n",
        "\n",
        "        # Perform one step of the optimization (on the policy network)\n",
        "        optimize_model()\n",
        "        if done:\n",
        "            episode_durations.append(t + 1)\n",
        "            plot_durations()\n",
        "            break\n",
        "    # Update the target network, copying all weights and biases in DQN\n",
        "    if i_episode % TARGET_UPDATE == 0:\n",
        "        target_net.load_state_dict(policy_net.state_dict())\n",
        "\n",
        "print('Complete')\n",
        "env.render()\n",
        "ipythondisplay.clear_output(wait=True)\n",
        "env.close()\n",
        "plt.ioff()\n",
        "plt.show()"
      ],
      "metadata": {
        "colab": {
          "base_uri": "https://localhost:8080/",
          "height": 35
        },
        "id": "A6IOEIk7e2ml",
        "outputId": "16cfe553-1af2-424b-9fa3-9adbe30d8164"
      },
      "execution_count": null,
      "outputs": [
        {
          "output_type": "display_data",
          "data": {
            "text/plain": [
              "<Figure size 432x288 with 0 Axes>"
            ]
          },
          "metadata": {}
        }
      ]
    },
    {
      "cell_type": "code",
      "source": [
        "plt.plot(episode_durations)\n",
        "plt.show()"
      ],
      "metadata": {
        "colab": {
          "base_uri": "https://localhost:8080/",
          "height": 265
        },
        "id": "YZ_VBHt6jQYb",
        "outputId": "82f6d552-e573-4115-d8af-989329bf8e31"
      },
      "execution_count": null,
      "outputs": [
        {
          "output_type": "display_data",
          "data": {
            "text/plain": [
              "<Figure size 432x288 with 1 Axes>"
            ],
            "image/png": "[encoded data removed]"
          },
          "metadata": {
            "needs_background": "light"
          }
        }
      ]
    }
  ]
}