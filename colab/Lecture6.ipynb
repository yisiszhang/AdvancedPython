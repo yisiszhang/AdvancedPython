{
  "nbformat": 4,
  "nbformat_minor": 0,
  "metadata": {
    "colab": {
      "name": "Lecture6.ipynb",
      "provenance": [],
      "authorship_tag": "ABX9TyOaHBJer8G38i4KJa+q8fUy",
      "include_colab_link": true
    },
    "kernelspec": {
      "name": "python3",
      "display_name": "Python 3"
    },
    "language_info": {
      "name": "python"
    }
  },
  "cells": [
    {
      "cell_type": "markdown",
      "metadata": {
        "id": "view-in-github",
        "colab_type": "text"
      },
      "source": [
        "<a href=\"https://colab.research.google.com/github/yisiszhang/AdvancedPython/blob/main/Lecture6.ipynb\" target=\"_parent\"><img src=\"https://colab.research.google.com/assets/colab-badge.svg\" alt=\"Open In Colab\"/></a>"
      ]
    },
    {
      "cell_type": "markdown",
      "source": [
        "# **Lecture 6: Neural network II**"
      ],
      "metadata": {
        "id": "wIHW93TQdwJ9"
      }
    },
    {
      "cell_type": "code",
      "execution_count": 94,
      "metadata": {
        "id": "AhNaD4hqdlaH"
      },
      "outputs": [],
      "source": [
        "import numpy as np\n",
        "import matplotlib.pyplot as plt\n",
        "\n",
        "import torch\n",
        "import torch.nn as nn\n",
        "import torch.optim as optim\n",
        "import torchvision"
      ]
    },
    {
      "cell_type": "code",
      "source": [
        "from torchvision.datasets import MNIST\n",
        "random_seed = 1\n",
        "torch.manual_seed(random_seed)\n",
        "# load training and test sets of the MNIST dataset\n",
        "mnist_train = MNIST(\"./data\", train=True, download=True, transform=torchvision.transforms.Compose([\n",
        "        torchvision.transforms.ToTensor(),\n",
        "        torchvision.transforms.Normalize((0.1307,), (0.3081,))\n",
        "        ]))\n",
        "mnist_test = MNIST(\"./data\", train=False, download=True, transform=torchvision.transforms.Compose([\n",
        "        torchvision.transforms.ToTensor(),\n",
        "        torchvision.transforms.Normalize((0.1307,), (0.3081,))\n",
        "        ]))\n",
        "print(mnist_train)\n",
        "print(mnist_test)"
      ],
      "metadata": {
        "colab": {
          "base_uri": "https://localhost:8080/"
        },
        "id": "vSUy0beo2UAb",
        "outputId": "5db38669-2e2d-4a9d-970e-e8adde63cc44"
      },
      "execution_count": 108,
      "outputs": [
        {
          "output_type": "stream",
          "name": "stdout",
          "text": [
            "Dataset MNIST\n",
            "    Number of datapoints: 60000\n",
            "    Root location: ./data\n",
            "    Split: Train\n",
            "    StandardTransform\n",
            "Transform: Compose(\n",
            "               ToTensor()\n",
            "               Normalize(mean=(0.1307,), std=(0.3081,))\n",
            "           )\n",
            "Dataset MNIST\n",
            "    Number of datapoints: 10000\n",
            "    Root location: ./data\n",
            "    Split: Test\n",
            "    StandardTransform\n",
            "Transform: Compose(\n",
            "               ToTensor()\n",
            "               Normalize(mean=(0.1307,), std=(0.3081,))\n",
            "           )\n"
          ]
        }
      ]
    },
    {
      "cell_type": "code",
      "source": [
        "# set up hyperparameters\n",
        "n_epochs = 10\n",
        "batch_size_train = 100\n",
        "batch_size_test = len(mnist_test) # use the entire test data\n",
        "learning_rate = 0.001\n"
      ],
      "metadata": {
        "id": "gHjPFiVZ4Nm3"
      },
      "execution_count": 125,
      "outputs": []
    },
    {
      "cell_type": "code",
      "source": [
        "train_loader = torch.utils.data.DataLoader(dataset=mnist_train, batch_size=batch_size_train, shuffle=True)\n",
        "test_loader = torch.utils.data.DataLoader(dataset=mnist_test, batch_size=batch_size_test, shuffle=False)\n",
        "print(len(train_loader))"
      ],
      "metadata": {
        "colab": {
          "base_uri": "https://localhost:8080/"
        },
        "id": "z5OVutrcYnX5",
        "outputId": "f81eae42-f139-4b65-8685-8072e802b8b0"
      },
      "execution_count": 126,
      "outputs": [
        {
          "output_type": "stream",
          "name": "stdout",
          "text": [
            "600\n"
          ]
        }
      ]
    },
    {
      "cell_type": "code",
      "source": [
        "examples = enumerate(train_loader)\n",
        "batch_idx, (example_data, example_targets) = next(examples)\n",
        "example_data.shape\n",
        "fig = plt.figure()\n",
        "for i in range(6):\n",
        "  plt.subplot(2,3,i+1)\n",
        "  plt.tight_layout()\n",
        "  plt.imshow(example_data[i][0], cmap='gray', interpolation='none')\n",
        "  #plt.imshow(example_data[i][0], extent = [0,1,0,1], cmap='gray', interpolation='none')\n",
        "  plt.title(\"Ground Truth: {}\".format(example_targets[i]))\n",
        "  plt.xticks([])\n",
        "  plt.yticks([])\n",
        "fig"
      ],
      "metadata": {
        "colab": {
          "base_uri": "https://localhost:8080/",
          "height": 551
        },
        "id": "FtkdKB_YpTWU",
        "outputId": "1ce9c396-0534-4e84-ddfb-35a14bfe8b54"
      },
      "execution_count": 127,
      "outputs": [
        {
          "output_type": "execute_result",
          "data": {
            "text/plain": [
              "<Figure size 432x288 with 6 Axes>"
            ],
            "image/png": "[encoded data removed]"
          },
          "metadata": {},
          "execution_count": 127
        },
        {
          "output_type": "display_data",
          "data": {
            "text/plain": [
              "<Figure size 432x288 with 6 Axes>"
            ],
            "image/png": "[encoded data removed]"
          },
          "metadata": {}
        }
      ]
    },
    {
      "cell_type": "code",
      "source": [
        "# setup the neural network\n",
        "class NeuralNet(nn.Module):\n",
        "  def __init__(self, input_size, hidden_size, num_output):\n",
        "    super(NeuralNet, self).__init__()\n",
        "    self.layer1 = nn.Linear(input_size, hidden_size)\n",
        "    self.layer2 = nn.Linear(hidden_size, num_output)\n",
        "    self.activation = nn.Sigmoid()\n",
        "  def forward(self, x):\n",
        "    x = torch.flatten(x, start_dim=1)\n",
        "    o = self.layer1(x)\n",
        "    o = self.activation(o)\n",
        "    o = self.layer2(o)\n",
        "    #o = self.activation(o)\n",
        "    return o"
      ],
      "metadata": {
        "id": "hXfIVO5f4eIA"
      },
      "execution_count": 128,
      "outputs": []
    },
    {
      "cell_type": "code",
      "source": [
        "device = torch.device(\"cuda:0\" if torch.cuda.is_available() else \"cpu\")\n",
        "input_size = mnist_train.data.shape[1] * mnist_train.data.shape[2]\n",
        "hidden_size = 128\n",
        "num_output = 10\n",
        "model = NeuralNet(input_size, hidden_size, num_output).to(device)"
      ],
      "metadata": {
        "id": "GBbPMdhG-tXj"
      },
      "execution_count": 129,
      "outputs": []
    },
    {
      "cell_type": "code",
      "source": [
        "criterion = nn.CrossEntropyLoss()\n",
        "optimizer = optim.Adam(model.parameters(), lr = learning_rate)"
      ],
      "metadata": {
        "id": "m50GGx8vTmP4"
      },
      "execution_count": 130,
      "outputs": []
    },
    {
      "cell_type": "code",
      "source": [
        "train_losses = []\n",
        "train_counter = []\n",
        "test_losses = []\n",
        "nbatch = len(train_loader)\n",
        "test_counter = [i*len(train_loader.dataset) for i in range(n_epochs)]\n",
        "\n",
        "for epoch in range(n_epochs):\n",
        "  for i, (images, labels) in enumerate(train_loader):\n",
        "    outputs = model(images)\n",
        "    loss = criterion(outputs, labels)\n",
        "    optimizer.zero_grad()\n",
        "    loss.backward()\n",
        "    optimizer.step()\n",
        "    if i % 100 == 0:\n",
        "      print('Train Epoch: {} [{} / {} ({:.0f}%)]\\tLoss: {:.6f}'.format(epoch, i * len(labels), len(train_loader.dataset), 100. * i/len(train_loader), loss.item()))\n",
        "      train_losses.append(loss.item())\n",
        "      train_counter.append(i*train_loader.batch_size + epoch*len(train_loader.dataset))\n",
        "\n",
        "  test_loss = 0\n",
        "  correct = 0\n",
        "  nsample = 0\n",
        "  with torch.no_grad():\n",
        "    for images, labels in test_loader:\n",
        "      outputs = model(images)\n",
        "      loss = criterion(outputs, labels)\n",
        "      test_loss += loss.item()\n",
        "      pred = outputs.argmax(axis=1)\n",
        "      correct += (pred == labels).sum().item()\n",
        "      nsample += len(labels)\n",
        "  test_loss /= len(test_loader.dataset)\n",
        "  test_losses.append(test_loss)\n",
        "  acc = 100.0 * correct/nsample\n",
        "  print(f'Test accuracy = {acc} %')"
      ],
      "metadata": {
        "colab": {
          "base_uri": "https://localhost:8080/"
        },
        "id": "rKTcrTO7A4zU",
        "outputId": "3a1d711e-f24c-4f19-9537-054bec0c2968"
      },
      "execution_count": 131,
      "outputs": [
        {
          "output_type": "stream",
          "name": "stdout",
          "text": [
            "Train Epoch: 0 [0 / 60000 (0%)]\tLoss: 2.327796\n",
            "Train Epoch: 0 [10000 / 60000 (17%)]\tLoss: 0.566607\n",
            "Train Epoch: 0 [20000 / 60000 (33%)]\tLoss: 0.288088\n",
            "Train Epoch: 0 [30000 / 60000 (50%)]\tLoss: 0.294060\n",
            "Train Epoch: 0 [40000 / 60000 (67%)]\tLoss: 0.330544\n",
            "Train Epoch: 0 [50000 / 60000 (83%)]\tLoss: 0.242095\n",
            "Test accuracy = 93.47 %\n",
            "Train Epoch: 1 [0 / 60000 (0%)]\tLoss: 0.235045\n",
            "Train Epoch: 1 [10000 / 60000 (17%)]\tLoss: 0.146066\n",
            "Train Epoch: 1 [20000 / 60000 (33%)]\tLoss: 0.142851\n",
            "Train Epoch: 1 [30000 / 60000 (50%)]\tLoss: 0.148363\n",
            "Train Epoch: 1 [40000 / 60000 (67%)]\tLoss: 0.266410\n",
            "Train Epoch: 1 [50000 / 60000 (83%)]\tLoss: 0.093153\n",
            "Test accuracy = 94.93 %\n",
            "Train Epoch: 2 [0 / 60000 (0%)]\tLoss: 0.155866\n",
            "Train Epoch: 2 [10000 / 60000 (17%)]\tLoss: 0.126538\n",
            "Train Epoch: 2 [20000 / 60000 (33%)]\tLoss: 0.174198\n",
            "Train Epoch: 2 [30000 / 60000 (50%)]\tLoss: 0.152738\n",
            "Train Epoch: 2 [40000 / 60000 (67%)]\tLoss: 0.195261\n",
            "Train Epoch: 2 [50000 / 60000 (83%)]\tLoss: 0.165181\n",
            "Test accuracy = 95.68 %\n",
            "Train Epoch: 3 [0 / 60000 (0%)]\tLoss: 0.075043\n",
            "Train Epoch: 3 [10000 / 60000 (17%)]\tLoss: 0.172217\n",
            "Train Epoch: 3 [20000 / 60000 (33%)]\tLoss: 0.107774\n",
            "Train Epoch: 3 [30000 / 60000 (50%)]\tLoss: 0.112561\n",
            "Train Epoch: 3 [40000 / 60000 (67%)]\tLoss: 0.149192\n",
            "Train Epoch: 3 [50000 / 60000 (83%)]\tLoss: 0.069432\n",
            "Test accuracy = 96.4 %\n",
            "Train Epoch: 4 [0 / 60000 (0%)]\tLoss: 0.141275\n",
            "Train Epoch: 4 [10000 / 60000 (17%)]\tLoss: 0.049530\n",
            "Train Epoch: 4 [20000 / 60000 (33%)]\tLoss: 0.055166\n",
            "Train Epoch: 4 [30000 / 60000 (50%)]\tLoss: 0.055584\n",
            "Train Epoch: 4 [40000 / 60000 (67%)]\tLoss: 0.077480\n",
            "Train Epoch: 4 [50000 / 60000 (83%)]\tLoss: 0.055832\n",
            "Test accuracy = 96.65 %\n",
            "Train Epoch: 5 [0 / 60000 (0%)]\tLoss: 0.086218\n",
            "Train Epoch: 5 [10000 / 60000 (17%)]\tLoss: 0.067258\n",
            "Train Epoch: 5 [20000 / 60000 (33%)]\tLoss: 0.068781\n",
            "Train Epoch: 5 [30000 / 60000 (50%)]\tLoss: 0.182392\n",
            "Train Epoch: 5 [40000 / 60000 (67%)]\tLoss: 0.103092\n",
            "Train Epoch: 5 [50000 / 60000 (83%)]\tLoss: 0.075500\n",
            "Test accuracy = 96.79 %\n",
            "Train Epoch: 6 [0 / 60000 (0%)]\tLoss: 0.111769\n",
            "Train Epoch: 6 [10000 / 60000 (17%)]\tLoss: 0.077676\n",
            "Train Epoch: 6 [20000 / 60000 (33%)]\tLoss: 0.091718\n",
            "Train Epoch: 6 [30000 / 60000 (50%)]\tLoss: 0.090249\n",
            "Train Epoch: 6 [40000 / 60000 (67%)]\tLoss: 0.115209\n",
            "Train Epoch: 6 [50000 / 60000 (83%)]\tLoss: 0.080552\n",
            "Test accuracy = 96.92 %\n",
            "Train Epoch: 7 [0 / 60000 (0%)]\tLoss: 0.059317\n",
            "Train Epoch: 7 [10000 / 60000 (17%)]\tLoss: 0.048781\n",
            "Train Epoch: 7 [20000 / 60000 (33%)]\tLoss: 0.059552\n",
            "Train Epoch: 7 [30000 / 60000 (50%)]\tLoss: 0.031019\n",
            "Train Epoch: 7 [40000 / 60000 (67%)]\tLoss: 0.061079\n",
            "Train Epoch: 7 [50000 / 60000 (83%)]\tLoss: 0.023625\n",
            "Test accuracy = 97.15 %\n",
            "Train Epoch: 8 [0 / 60000 (0%)]\tLoss: 0.065927\n",
            "Train Epoch: 8 [10000 / 60000 (17%)]\tLoss: 0.039851\n",
            "Train Epoch: 8 [20000 / 60000 (33%)]\tLoss: 0.022255\n",
            "Train Epoch: 8 [30000 / 60000 (50%)]\tLoss: 0.015568\n",
            "Train Epoch: 8 [40000 / 60000 (67%)]\tLoss: 0.078693\n",
            "Train Epoch: 8 [50000 / 60000 (83%)]\tLoss: 0.062322\n",
            "Test accuracy = 97.35 %\n",
            "Train Epoch: 9 [0 / 60000 (0%)]\tLoss: 0.101162\n",
            "Train Epoch: 9 [10000 / 60000 (17%)]\tLoss: 0.041328\n",
            "Train Epoch: 9 [20000 / 60000 (33%)]\tLoss: 0.067572\n",
            "Train Epoch: 9 [30000 / 60000 (50%)]\tLoss: 0.055166\n",
            "Train Epoch: 9 [40000 / 60000 (67%)]\tLoss: 0.052042\n",
            "Train Epoch: 9 [50000 / 60000 (83%)]\tLoss: 0.046136\n",
            "Test accuracy = 97.42 %\n"
          ]
        }
      ]
    },
    {
      "cell_type": "code",
      "source": [
        "test_counter = [i*len(train_loader.dataset) for i in range(n_epochs)]\n",
        "fig = plt.figure()\n",
        "plt.plot(train_counter, train_losses, color='blue')\n",
        "plt.scatter(test_counter, test_losses, color='red')\n",
        "plt.legend(['Train Loss', 'Test Loss'], loc='upper right')\n",
        "plt.xlabel('number of training examples seen')\n",
        "plt.ylabel('negative log likelihood loss')\n",
        "fig"
      ],
      "metadata": {
        "colab": {
          "base_uri": "https://localhost:8080/",
          "height": 541
        },
        "id": "VecsI5rAJArl",
        "outputId": "eaeafea7-0c41-441d-9b61-09b81b77a149"
      },
      "execution_count": 132,
      "outputs": [
        {
          "output_type": "execute_result",
          "data": {
            "text/plain": [
              "<Figure size 432x288 with 1 Axes>"
            ],
            "image/png": "[encoded data removed]"
          },
          "metadata": {},
          "execution_count": 132
        },
        {
          "output_type": "display_data",
          "data": {
            "text/plain": [
              "<Figure size 432x288 with 1 Axes>"
            ],
            "image/png": "[encoded data removed]"
          },
          "metadata": {
            "needs_background": "light"
          }
        }
      ]
    }
  ]
}
