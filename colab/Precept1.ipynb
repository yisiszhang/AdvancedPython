{
  "nbformat": 4,
  "nbformat_minor": 0,
  "metadata": {
    "colab": {
      "name": "Precept1.ipynb",
      "provenance": [],
      "authorship_tag": "ABX9TyNeTi0H8/6jn3R3/GVnCaBz",
      "include_colab_link": true
    },
    "kernelspec": {
      "name": "python3",
      "display_name": "Python 3"
    },
    "language_info": {
      "name": "python"
    }
  },
  "cells": [
    {
      "cell_type": "markdown",
      "metadata": {
        "id": "view-in-github",
        "colab_type": "text"
      },
      "source": [
        "<a href=\"https://colab.research.google.com/github/yisiszhang/AdvancedPython/blob/main/Precept1.ipynb\" target=\"_parent\"><img src=\"https://colab.research.google.com/assets/colab-badge.svg\" alt=\"Open In Colab\"/></a>"
      ]
    },
    {
      "cell_type": "markdown",
      "metadata": {
        "id": "hUXumFpJ-XYL"
      },
      "source": [
        "# Precept 1\n",
        "In this project, we will use a dataset with multiple predictors to predict a response.\n",
        "\n",
        "You tasks are\n",
        "\n",
        "1. Split data into training and test sets.\n",
        "2. Perform multiple linear regression using the full predictors and estimate the prediction accuracy using the test set.\n",
        "3. Perform variable selection using the training set and compare the prediction accuracy with the full model using the test set."
      ]
    },
    {
      "cell_type": "code",
      "metadata": {
        "id": "bcC5MNibDXkd",
        "colab": {
          "base_uri": "https://localhost:8080/"
        },
        "outputId": "f1a5fd4d-f8f1-47ca-8b1b-8c42897a74e6"
      },
      "source": [
        "!pip install -U scikit-learn"
      ],
      "execution_count": null,
      "outputs": [
        {
          "output_type": "stream",
          "text": [
            "Collecting scikit-learn\n",
            "\u001b[?25l  Downloading https://files.pythonhosted.org/packages/a8/eb/a48f25c967526b66d5f1fa7a984594f0bf0a5afafa94a8c4dbc317744620/scikit_learn-0.24.2-cp37-cp37m-manylinux2010_x86_64.whl (22.3MB)\n",
            "\u001b[K     |████████████████████████████████| 22.3MB 1.4MB/s \n",
            "\u001b[?25hCollecting threadpoolctl>=2.0.0\n",
            "  Downloading https://files.pythonhosted.org/packages/f7/12/ec3f2e203afa394a149911729357aa48affc59c20e2c1c8297a60f33f133/threadpoolctl-2.1.0-py3-none-any.whl\n",
            "Requirement already satisfied, skipping upgrade: joblib>=0.11 in /usr/local/lib/python3.7/dist-packages (from scikit-learn) (1.0.1)\n",
            "Requirement already satisfied, skipping upgrade: numpy>=1.13.3 in /usr/local/lib/python3.7/dist-packages (from scikit-learn) (1.19.5)\n",
            "Requirement already satisfied, skipping upgrade: scipy>=0.19.1 in /usr/local/lib/python3.7/dist-packages (from scikit-learn) (1.4.1)\n",
            "Installing collected packages: threadpoolctl, scikit-learn\n",
            "  Found existing installation: scikit-learn 0.22.2.post1\n",
            "    Uninstalling scikit-learn-0.22.2.post1:\n",
            "      Successfully uninstalled scikit-learn-0.22.2.post1\n",
            "Successfully installed scikit-learn-0.24.2 threadpoolctl-2.1.0\n"
          ],
          "name": "stdout"
        }
      ]
    },
    {
      "cell_type": "code",
      "metadata": {
        "id": "uMbdYr8b-Sqi"
      },
      "source": [
        "import numpy as np\n",
        "import sklearn\n",
        "import matplotlib.pyplot as plt"
      ],
      "execution_count": null,
      "outputs": []
    },
    {
      "cell_type": "code",
      "metadata": {
        "colab": {
          "base_uri": "https://localhost:8080/"
        },
        "id": "BLo6sWIIATVy",
        "outputId": "918b6269-d2e8-48f7-c146-2ce9bdab45fe"
      },
      "source": [
        "from sklearn.datasets import make_regression\n",
        "# generate regression dataset\n",
        "X, y = make_regression(n_samples=1000, n_features=20, n_informative=10, noise=50.0, random_state=1)\n",
        "n,d = X.shape"
      ],
      "execution_count": null,
      "outputs": [
        {
          "output_type": "stream",
          "text": [
            "['CRIM' 'ZN' 'INDUS' 'CHAS' 'NOX' 'RM' 'AGE' 'DIS' 'RAD' 'TAX' 'PTRATIO'\n",
            " 'B' 'LSTAT']\n",
            "(506, 13)\n"
          ],
          "name": "stdout"
        }
      ]
    },
    {
      "cell_type": "code",
      "metadata": {
        "id": "vSZ7nOytAsoN"
      },
      "source": [
        "# Split the data\n",
        "from sklearn.model_selection import train_test_split\n",
        "# test_ratio = \n",
        "# X_train, X_test, y_train, y_test = \n"
      ],
      "execution_count": null,
      "outputs": []
    },
    {
      "cell_type": "code",
      "metadata": {
        "id": "KqLK10PnBDZL"
      },
      "source": [
        "# Fit multiple linear regression using the full predictors\n",
        "from sklearn import linear_model\n",
        "# linreg = linear_model.LinearRegression()\n",
        "\n",
        "# Print estimated coefficients.\n"
      ],
      "execution_count": null,
      "outputs": []
    },
    {
      "cell_type": "code",
      "metadata": {
        "id": "VuemQXnHBuMV"
      },
      "source": [
        "# Estimate accuracy. You can report MSE and R2\n",
        "from sklearn import metrics\n",
        "\n",
        "# Print MSE and R2\n"
      ],
      "execution_count": null,
      "outputs": []
    },
    {
      "cell_type": "code",
      "metadata": {
        "id": "stkjS8zZDLq_"
      },
      "source": [
        "# Perform variable selection using 1. Kbest/forward\n",
        "from sklearn.feature_selection import SequentialFeatureSelector\n",
        "from sklearn.feature_selection import SelectKBest\n",
        "from sklearn.feature_selection import f_regression\n",
        "\n",
        "def aic(rss,n,d):\n",
        "  return 2*d + n*np.log(rss/n)\n",
        "\n",
        "def bic(rss,n,d):\n",
        "  return d*np.log(n) + n*np.log(rss/n)\n",
        "\n",
        "def adjustR2(rss,tss,n,d):\n",
        "  return 1-rss/(n-d-1)/tss*(n-1)\n",
        "\n",
        "# For each number of features (1 - d-1) specified apply the forward selection \n",
        "# And calculate the criteria\n",
        "cri = np.zeros(d)  \n",
        "for i in range(d-1):\n",
        "  regr_sel = linear_model.LinearRegression()\n",
        "  #sfs = SequentialFeatureSelector(regr_sel, n_features_to_select=i+1,direction='forward')\n",
        "  sfs = SelectKBest(score_func=f_regression, k=i+1)\n",
        "  sfs.fit(X_train,y_train)\n",
        "  X_sel = sfs.transform(X_train)\n",
        "  # n,dsel = \n",
        "\n",
        "  # rss = ((y_train - y_hat)**2).sum()\n",
        "  # cri[i] = \n",
        "\n",
        "# criterion of full model\n",
        "\n",
        "# cri[d-1] = \n",
        "\n",
        "# plot the criteria over d selected\n",
        "plt.plot(np.arange(d)+1, cri)\n",
        "plt.show()\n",
        "\n",
        "# Print indices of selected variables\n",
        "# best_d = \n",
        "#sfs = SequentialFeatureSelector(linreg, n_features_to_select=best_d)\n",
        "sfs = SelectKBest(score_func=f_regression, k=best_d)\n",
        "sfs.fit(X_train,y_train)\n",
        "np.where(sfs.get_support())"
      ],
      "execution_count": null,
      "outputs": []
    },
    {
      "cell_type": "code",
      "metadata": {
        "id": "xzb1DjGNEVDP"
      },
      "source": [
        "# Estimate prediction accuracy using the test data\n",
        "# X_sel_train = \n",
        "\n",
        "\n",
        "# X_sel_test = \n",
        "\n",
        "# Print the MSE, R2\n"
      ],
      "execution_count": null,
      "outputs": []
    },
    {
      "cell_type": "code",
      "metadata": {
        "id": "FNCBSboUDy8l"
      },
      "source": [
        "# Perform variable selection using 2. Lasso\n",
        "alphas = np.logspace(-5, 0, 10)\n",
        "# lassoreg = linear_model.Lasso()\n",
        "\n",
        "\n",
        "# Print best alpha\n",
        "# best_alpha = \n",
        "\n",
        "# Print estimated coefficients\n"
      ],
      "execution_count": null,
      "outputs": []
    },
    {
      "cell_type": "code",
      "metadata": {
        "id": "jgMp-Yj6Eek7"
      },
      "source": [
        "# Estimte the prediction accuracy using the test data\n",
        "\n",
        "# Print the MSE, R2\n"
      ],
      "execution_count": null,
      "outputs": []
    }
  ]
}
