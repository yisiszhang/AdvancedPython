{
  "nbformat": 4,
  "nbformat_minor": 0,
  "metadata": {
    "colab": {
      "name": "Lecture2.ipynb",
      "provenance": [],
      "collapsed_sections": [],
      "toc_visible": true,
      "authorship_tag": "ABX9TyN8ImxByACB/7419OzCq8ro",
      "include_colab_link": true
    },
    "kernelspec": {
      "name": "python3",
      "display_name": "Python 3"
    },
    "language_info": {
      "name": "python"
    }
  },
  "cells": [
    {
      "cell_type": "markdown",
      "metadata": {
        "id": "view-in-github",
        "colab_type": "text"
      },
      "source": [
        "<a href=\"https://colab.research.google.com/github/yisiszhang/AdvancedPython/blob/main/Lecture2.ipynb\" target=\"_parent\"><img src=\"https://colab.research.google.com/assets/colab-badge.svg\" alt=\"Open In Colab\"/></a>"
      ]
    },
    {
      "cell_type": "markdown",
      "metadata": {
        "id": "GNIICLmUMK4p"
      },
      "source": [
        "# **Lecture 2: Regression**"
      ]
    },
    {
      "cell_type": "markdown",
      "metadata": {
        "id": "fVuz4wmyMVxc"
      },
      "source": [
        "# 2.1 Simple linear regression\n",
        "Linear regression problems can be solved in one step. Our code should get the same results as the sklearn function for linear regression."
      ]
    },
    {
      "cell_type": "code",
      "metadata": {
        "colab": {
          "base_uri": "https://localhost:8080/"
        },
        "id": "SrRjaT80tYxE",
        "outputId": "82ec87fe-73bf-402a-c560-bf03b7f66991"
      },
      "source": [
        "!pip install -U scikit-learn"
      ],
      "execution_count": 3,
      "outputs": [
        {
          "output_type": "stream",
          "text": [
            "Requirement already up-to-date: scikit-learn in /usr/local/lib/python3.7/dist-packages (0.24.2)\n",
            "Requirement already satisfied, skipping upgrade: scipy>=0.19.1 in /usr/local/lib/python3.7/dist-packages (from scikit-learn) (1.4.1)\n",
            "Requirement already satisfied, skipping upgrade: joblib>=0.11 in /usr/local/lib/python3.7/dist-packages (from scikit-learn) (1.0.1)\n",
            "Requirement already satisfied, skipping upgrade: numpy>=1.13.3 in /usr/local/lib/python3.7/dist-packages (from scikit-learn) (1.19.5)\n",
            "Requirement already satisfied, skipping upgrade: threadpoolctl>=2.0.0 in /usr/local/lib/python3.7/dist-packages (from scikit-learn) (2.1.0)\n"
          ],
          "name": "stdout"
        }
      ]
    },
    {
      "cell_type": "code",
      "metadata": {
        "id": "0z_Z-1OQMujx"
      },
      "source": [
        "import numpy as np\n",
        "import sklearn\n",
        "import matplotlib.pyplot as plt"
      ],
      "execution_count": 1,
      "outputs": []
    },
    {
      "cell_type": "code",
      "metadata": {
        "id": "sQDI7mEaOcyr"
      },
      "source": [
        "# make a random dataset with X and Y\n",
        "np.random.seed(20)\n",
        "n = 100\n",
        "# create a random column vector as our Xs\n",
        "# Xs are drawn from a standard normal distribution\n",
        "x = np.random.normal(0,1,size=(n, 1))\n",
        "# add ones to x\n",
        "X = np.hstack((np.ones_like(x), x))\n",
        "# Y = 2+3X+noise\n",
        "# get Y using matrix multiplication\n",
        "beta = np.array([[2.0],[3.0]])\n",
        "# Y = Xbeta+noise, suppose noise ~ Norm(0,1)\n",
        "y = np.dot(X,beta) + np.random.normal(0,1,size=(n,1))"
      ],
      "execution_count": 2,
      "outputs": []
    },
    {
      "cell_type": "code",
      "metadata": {
        "colab": {
          "base_uri": "https://localhost:8080/",
          "height": 265
        },
        "id": "yPOy7WMoPNky",
        "outputId": "7f0ba0b2-cbb1-4d46-a68d-8d8798bb3e94"
      },
      "source": [
        "# plot the data with true model\n",
        "x_plot = np.linspace(-3,3,10)\n",
        "x_plot = x_plot[:,np.newaxis]\n",
        "y_plot = 2+3*x_plot\n",
        "plt.scatter(x, y)\n",
        "plt.plot(x_plot, y_plot, 'r-')\n",
        "plt.show()"
      ],
      "execution_count": 4,
      "outputs": [
        {
          "output_type": "display_data",
          "data": {
            "image/png": "[encoded data removed]",
            "text/plain": [
              "<Figure size 432x288 with 1 Axes>"
            ]
          },
          "metadata": {
            "tags": [],
            "needs_background": "light"
          }
        }
      ]
    },
    {
      "cell_type": "markdown",
      "metadata": {
        "id": "ROIqTCmUefBh"
      },
      "source": [
        "$\\hat{\\beta}_{LS}=(X^TX)^{-1}X^TY$"
      ]
    },
    {
      "cell_type": "code",
      "metadata": {
        "colab": {
          "base_uri": "https://localhost:8080/"
        },
        "id": "uvaVeuByoKlX",
        "outputId": "442539ac-418a-477d-a8e5-ba589f0b4178"
      },
      "source": [
        "from numpy.linalg import multi_dot\n",
        "from numpy.linalg import pinv\n",
        "# solve for beta using matrix inverse and multiplication\n",
        "beta_ls = multi_dot([pinv(X.T@X), X.T, y])\n",
        "print(beta_ls)"
      ],
      "execution_count": 6,
      "outputs": [
        {
          "output_type": "stream",
          "text": [
            "[[2.08252496]\n",
            " [2.92355562]]\n"
          ],
          "name": "stdout"
        }
      ]
    },
    {
      "cell_type": "code",
      "metadata": {
        "colab": {
          "base_uri": "https://localhost:8080/",
          "height": 265
        },
        "id": "bVPLrhE7p66x",
        "outputId": "7bad8f07-9df3-46e9-c3e4-9a6592967f72"
      },
      "source": [
        "# compare our results with truth\n",
        "yfit_plot = beta_ls[0,0]+beta_ls[1,0]*x_plot\n",
        "plt.scatter(x, y)\n",
        "plt.plot(x_plot, y_plot, 'r-')\n",
        "plt.plot(x_plot, yfit_plot, 'y-')\n",
        "plt.show()"
      ],
      "execution_count": 7,
      "outputs": [
        {
          "output_type": "display_data",
          "data": {
            "image/png": "[encoded data removed]",
            "text/plain": [
              "<Figure size 432x288 with 1 Axes>"
            ]
          },
          "metadata": {
            "tags": [],
            "needs_background": "light"
          }
        }
      ]
    },
    {
      "cell_type": "code",
      "metadata": {
        "colab": {
          "base_uri": "https://localhost:8080/"
        },
        "id": "PDCAWQ4QsrS4",
        "outputId": "a61fb8b7-cd95-445f-eaba-f1dbf9c75039"
      },
      "source": [
        "# error of our estimates\n",
        "# first calculate the covariance matrix of beta as RSS/(n-2)*inv(X^T X)\n",
        "RSS = (y-(X@beta_ls)).T @ (y-(X@beta_ls))\n",
        "RSS = RSS[0,0]\n",
        "beta_ls_cov = RSS/(n-2) * pinv(X.T@X)\n",
        "# take the diagonal of the covariance matrix and take the square root\n",
        "beta_ls_se = np.diag(beta_ls_cov)**0.5\n",
        "# calculate RSE, it should be close to 1\n",
        "RSE = (RSS/(n-2))**0.5\n",
        "print(beta_ls_se)\n",
        "print(RSE)"
      ],
      "execution_count": 9,
      "outputs": [
        {
          "output_type": "stream",
          "text": [
            "[0.10081027 0.09386974]\n",
            "1.0068024463974323\n"
          ],
          "name": "stdout"
        }
      ]
    },
    {
      "cell_type": "code",
      "metadata": {
        "colab": {
          "base_uri": "https://localhost:8080/"
        },
        "id": "_PFtgT-Hln9_",
        "outputId": "7b0b37c4-9c49-4ce9-e82a-c73a7a62e2f5"
      },
      "source": [
        "from scipy.stats import t\n",
        "# approx. 95% CI\n",
        "ci = np.array([beta_ls[:,0] - 2*beta_ls_se, beta_ls[:,0]+2*beta_ls_se]).T\n",
        "# t-statistic\n",
        "ts = beta_ls[:,0]/beta_ls_se\n",
        "# p-value (two-sided)\n",
        "pv = (1 - t.cdf(abs(ts), n-2)) * 2\n",
        "# R2\n",
        "TSS = (y-y.mean()).T @ (y-y.mean())\n",
        "TSS = TSS[0, 0]\n",
        "R2 = 1 - RSS/TSS\n",
        "print(ci)\n",
        "print(ts)\n",
        "print(pv)\n",
        "print(R2)"
      ],
      "execution_count": 10,
      "outputs": [
        {
          "output_type": "stream",
          "text": [
            "[[1.88090443 2.2841455 ]\n",
            " [2.73581614 3.1112951 ]]\n",
            "[20.65786565 31.14481364]\n",
            "[0. 0.]\n",
            "0.9082396502518881\n"
          ],
          "name": "stdout"
        }
      ]
    },
    {
      "cell_type": "code",
      "metadata": {
        "colab": {
          "base_uri": "https://localhost:8080/",
          "height": 498
        },
        "id": "rvkJqi5a1Y80",
        "outputId": "fb87d507-a719-4edd-c617-cdd467c9bd0d"
      },
      "source": [
        "# let's compare our results with built-in python functions for ordinary least squares (OLS)\n",
        "import statsmodels.api as sm\n",
        "ols = sm.OLS(y, X)\n",
        "ols_result = ols.fit()\n",
        "ols_result.summary()"
      ],
      "execution_count": 11,
      "outputs": [
        {
          "output_type": "stream",
          "text": [
            "/usr/local/lib/python3.7/dist-packages/statsmodels/tools/_testing.py:19: FutureWarning: pandas.util.testing is deprecated. Use the functions in the public API at pandas.testing instead.\n",
            "  import pandas.util.testing as tm\n"
          ],
          "name": "stderr"
        },
        {
          "output_type": "execute_result",
          "data": {
            "text/html": [
              "<table class=\"simpletable\">\n",
              "<caption>OLS Regression Results</caption>\n",
              "<tr>\n",
              "  <th>Dep. Variable:</th>            <td>y</td>        <th>  R-squared:         </th> <td>   0.908</td>\n",
              "</tr>\n",
              "<tr>\n",
              "  <th>Model:</th>                   <td>OLS</td>       <th>  Adj. R-squared:    </th> <td>   0.907</td>\n",
              "</tr>\n",
              "<tr>\n",
              "  <th>Method:</th>             <td>Least Squares</td>  <th>  F-statistic:       </th> <td>   970.0</td>\n",
              "</tr>\n",
              "<tr>\n",
              "  <th>Date:</th>             <td>Wed, 07 Jul 2021</td> <th>  Prob (F-statistic):</th> <td>1.25e-52</td>\n",
              "</tr>\n",
              "<tr>\n",
              "  <th>Time:</th>                 <td>19:18:52</td>     <th>  Log-Likelihood:    </th> <td> -141.56</td>\n",
              "</tr>\n",
              "<tr>\n",
              "  <th>No. Observations:</th>      <td>   100</td>      <th>  AIC:               </th> <td>   287.1</td>\n",
              "</tr>\n",
              "<tr>\n",
              "  <th>Df Residuals:</th>          <td>    98</td>      <th>  BIC:               </th> <td>   292.3</td>\n",
              "</tr>\n",
              "<tr>\n",
              "  <th>Df Model:</th>              <td>     1</td>      <th>                     </th>     <td> </td>   \n",
              "</tr>\n",
              "<tr>\n",
              "  <th>Covariance Type:</th>      <td>nonrobust</td>    <th>                     </th>     <td> </td>   \n",
              "</tr>\n",
              "</table>\n",
              "<table class=\"simpletable\">\n",
              "<tr>\n",
              "    <td></td>       <th>coef</th>     <th>std err</th>      <th>t</th>      <th>P>|t|</th>  <th>[0.025</th>    <th>0.975]</th>  \n",
              "</tr>\n",
              "<tr>\n",
              "  <th>const</th> <td>    2.0825</td> <td>    0.101</td> <td>   20.658</td> <td> 0.000</td> <td>    1.882</td> <td>    2.283</td>\n",
              "</tr>\n",
              "<tr>\n",
              "  <th>x1</th>    <td>    2.9236</td> <td>    0.094</td> <td>   31.145</td> <td> 0.000</td> <td>    2.737</td> <td>    3.110</td>\n",
              "</tr>\n",
              "</table>\n",
              "<table class=\"simpletable\">\n",
              "<tr>\n",
              "  <th>Omnibus:</th>       <td> 1.542</td> <th>  Durbin-Watson:     </th> <td>   2.101</td>\n",
              "</tr>\n",
              "<tr>\n",
              "  <th>Prob(Omnibus):</th> <td> 0.462</td> <th>  Jarque-Bera (JB):  </th> <td>   1.550</td>\n",
              "</tr>\n",
              "<tr>\n",
              "  <th>Skew:</th>          <td>-0.226</td> <th>  Prob(JB):          </th> <td>   0.461</td>\n",
              "</tr>\n",
              "<tr>\n",
              "  <th>Kurtosis:</th>      <td> 2.591</td> <th>  Cond. No.          </th> <td>    1.09</td>\n",
              "</tr>\n",
              "</table><br/><br/>Warnings:<br/>[1] Standard Errors assume that the covariance matrix of the errors is correctly specified."
            ],
            "text/plain": [
              "<class 'statsmodels.iolib.summary.Summary'>\n",
              "\"\"\"\n",
              "                            OLS Regression Results                            \n",
              "==============================================================================\n",
              "Dep. Variable:                      y   R-squared:                       0.908\n",
              "Model:                            OLS   Adj. R-squared:                  0.907\n",
              "Method:                 Least Squares   F-statistic:                     970.0\n",
              "Date:                Wed, 07 Jul 2021   Prob (F-statistic):           1.25e-52\n",
              "Time:                        19:18:52   Log-Likelihood:                -141.56\n",
              "No. Observations:                 100   AIC:                             287.1\n",
              "Df Residuals:                      98   BIC:                             292.3\n",
              "Df Model:                           1                                         \n",
              "Covariance Type:            nonrobust                                         \n",
              "==============================================================================\n",
              "                 coef    std err          t      P>|t|      [0.025      0.975]\n",
              "------------------------------------------------------------------------------\n",
              "const          2.0825      0.101     20.658      0.000       1.882       2.283\n",
              "x1             2.9236      0.094     31.145      0.000       2.737       3.110\n",
              "==============================================================================\n",
              "Omnibus:                        1.542   Durbin-Watson:                   2.101\n",
              "Prob(Omnibus):                  0.462   Jarque-Bera (JB):                1.550\n",
              "Skew:                          -0.226   Prob(JB):                        0.461\n",
              "Kurtosis:                       2.591   Cond. No.                         1.09\n",
              "==============================================================================\n",
              "\n",
              "Warnings:\n",
              "[1] Standard Errors assume that the covariance matrix of the errors is correctly specified.\n",
              "\"\"\""
            ]
          },
          "metadata": {
            "tags": []
          },
          "execution_count": 11
        }
      ]
    },
    {
      "cell_type": "markdown",
      "metadata": {
        "id": "CbNbhDTeHOBL"
      },
      "source": [
        "# 2.2 Multiple linear regression\n",
        "Let's walk through the analysis of a dataset that multiple variables are used as predictors."
      ]
    },
    {
      "cell_type": "code",
      "metadata": {
        "id": "lOePfqGcHzut"
      },
      "source": [
        "import numpy as np\n",
        "from sklearn import datasets\n",
        "from sklearn import linear_model"
      ],
      "execution_count": 6,
      "outputs": []
    },
    {
      "cell_type": "code",
      "metadata": {
        "colab": {
          "base_uri": "https://localhost:8080/"
        },
        "id": "fabi8jt5IEz3",
        "outputId": "f722b00f-1128-480f-bea8-aba651000350"
      },
      "source": [
        "# use a dataset from the sklearn package\n",
        "# there are 10 variables predict diabetes\n",
        "diabetes = datasets.load_diabetes()\n",
        "feature_names = np.array(diabetes.feature_names)\n",
        "print(feature_names)\n",
        "print(diabetes.data.shape)"
      ],
      "execution_count": 7,
      "outputs": [
        {
          "output_type": "stream",
          "text": [
            "['age' 'sex' 'bmi' 'bp' 's1' 's2' 's3' 's4' 's5' 's6']\n",
            "(442, 10)\n"
          ],
          "name": "stdout"
        }
      ]
    },
    {
      "cell_type": "code",
      "metadata": {
        "colab": {
          "base_uri": "https://localhost:8080/"
        },
        "id": "ZfdVqorvkgVg",
        "outputId": "d5a935a0-577c-4022-86f6-80a4469fa8b8"
      },
      "source": [
        "X, y = datasets.load_diabetes(return_X_y=True)\n",
        "regr = linear_model.LinearRegression()\n",
        "regr.fit(X, y)\n",
        "print(regr.coef_)\n",
        "print(regr.intercept_)"
      ],
      "execution_count": 8,
      "outputs": [
        {
          "output_type": "stream",
          "text": [
            "[ -10.01219782 -239.81908937  519.83978679  324.39042769 -792.18416163\n",
            "  476.74583782  101.04457032  177.06417623  751.27932109   67.62538639]\n",
            "152.1334841628965\n"
          ],
          "name": "stdout"
        }
      ]
    },
    {
      "cell_type": "code",
      "metadata": {
        "colab": {
          "base_uri": "https://localhost:8080/"
        },
        "id": "Br66YkDzKpyO",
        "outputId": "31a38bda-af36-4309-baab-1c5747108136"
      },
      "source": [
        "# let's test null hypothesis: all betas are 0\n",
        "n,p = X.shape\n",
        "TSS = np.sum((y - y.mean())**2)\n",
        "y_hat = regr.predict(X)\n",
        "RSS = np.sum((y - y_hat)**2)\n",
        "F = (TSS-RSS)/p/RSS*(n-p-1)\n",
        "print(F)"
      ],
      "execution_count": 20,
      "outputs": [
        {
          "output_type": "stream",
          "text": [
            "46.272625500627164\n"
          ],
          "name": "stdout"
        }
      ]
    },
    {
      "cell_type": "code",
      "metadata": {
        "colab": {
          "base_uri": "https://localhost:8080/"
        },
        "id": "vzOm471lRqv4",
        "outputId": "67670c00-60ea-4613-e328-2cf47c4f5bbc"
      },
      "source": [
        "import statsmodels.api as sm\n",
        "from scipy import stats\n",
        "\n",
        "X2 = sm.add_constant(X)\n",
        "est = sm.OLS(y, X2)\n",
        "est2 = est.fit()\n",
        "print(est2.summary())"
      ],
      "execution_count": 21,
      "outputs": [
        {
          "output_type": "stream",
          "text": [
            "                            OLS Regression Results                            \n",
            "==============================================================================\n",
            "Dep. Variable:                      y   R-squared:                       0.518\n",
            "Model:                            OLS   Adj. R-squared:                  0.507\n",
            "Method:                 Least Squares   F-statistic:                     46.27\n",
            "Date:                Wed, 07 Jul 2021   Prob (F-statistic):           3.83e-62\n",
            "Time:                        20:20:53   Log-Likelihood:                -2386.0\n",
            "No. Observations:                 442   AIC:                             4794.\n",
            "Df Residuals:                     431   BIC:                             4839.\n",
            "Df Model:                          10                                         \n",
            "Covariance Type:            nonrobust                                         \n",
            "==============================================================================\n",
            "                 coef    std err          t      P>|t|      [0.025      0.975]\n",
            "------------------------------------------------------------------------------\n",
            "const        152.1335      2.576     59.061      0.000     147.071     157.196\n",
            "x1           -10.0122     59.749     -0.168      0.867    -127.448     107.424\n",
            "x2          -239.8191     61.222     -3.917      0.000    -360.151    -119.488\n",
            "x3           519.8398     66.534      7.813      0.000     389.069     650.610\n",
            "x4           324.3904     65.422      4.958      0.000     195.805     452.976\n",
            "x5          -792.1842    416.684     -1.901      0.058   -1611.169      26.801\n",
            "x6           476.7458    339.035      1.406      0.160    -189.621    1143.113\n",
            "x7           101.0446    212.533      0.475      0.635    -316.685     518.774\n",
            "x8           177.0642    161.476      1.097      0.273    -140.313     494.442\n",
            "x9           751.2793    171.902      4.370      0.000     413.409    1089.150\n",
            "x10           67.6254     65.984      1.025      0.306     -62.065     197.316\n",
            "==============================================================================\n",
            "Omnibus:                        1.506   Durbin-Watson:                   2.029\n",
            "Prob(Omnibus):                  0.471   Jarque-Bera (JB):                1.404\n",
            "Skew:                           0.017   Prob(JB):                        0.496\n",
            "Kurtosis:                       2.726   Cond. No.                         227.\n",
            "==============================================================================\n",
            "\n",
            "Warnings:\n",
            "[1] Standard Errors assume that the covariance matrix of the errors is correctly specified.\n"
          ],
          "name": "stdout"
        }
      ]
    },
    {
      "cell_type": "markdown",
      "metadata": {
        "id": "7t5RPkoato9W"
      },
      "source": [
        "# 2.3 Variable selection\n",
        "Let's continue working on the diabetes data and implement the variable selection procedure."
      ]
    },
    {
      "cell_type": "markdown",
      "metadata": {
        "id": "3NIDYy_OuLAn"
      },
      "source": [
        "In this section, we show why using the full model might not be a good idea."
      ]
    },
    {
      "cell_type": "code",
      "metadata": {
        "colab": {
          "base_uri": "https://localhost:8080/",
          "height": 265
        },
        "id": "R-ygB5_2WW-p",
        "outputId": "2da53ece-9d66-4ef0-d1d6-b96d8e707e74"
      },
      "source": [
        "import numpy as np\n",
        "from sklearn.model_selection import train_test_split\n",
        "from sklearn.metrics import mean_squared_error, r2_score\n",
        "import matplotlib.pyplot as plt\n",
        "\n",
        "# from what did learned in lecture 1, we first split data into training and test sets\n",
        "np.random.seed(15)\n",
        "X_train, X_test, y_train, y_test = train_test_split(X, y, test_size=0.1)\n",
        "\n",
        "# train a linear model based on full predictors\n",
        "regr = linear_model.LinearRegression()\n",
        "regr.fit(X_train, y_train)\n",
        "y_pred = regr.predict(X_test)\n",
        "MSE_full = mean_squared_error(y_test, y_pred)\n",
        "R2_full = r2_score(y_test, y_pred)\n",
        "\n",
        "# calculate the training errors\n",
        "y_pred_train = regr.predict(X_train)\n",
        "MSE_full_train = mean_squared_error(y_train, y_pred_train)\n",
        "R2_full_train = r2_score(y_train, y_pred_train)\n",
        "\n",
        "# now select a subset\n",
        "sel_ind = np.array([1, 2, 3, 8])\n",
        "regr.fit(X_train[:,sel_ind], y_train)\n",
        "y_pred = regr.predict(X_test[:,sel_ind])\n",
        "MSE_subset = mean_squared_error(y_test, y_pred)\n",
        "R2_subset = r2_score(y_test, y_pred)\n",
        "\n",
        "# calculate the training errors for the subset case\n",
        "y_pred_train = regr.predict(X_train[:,sel_ind])\n",
        "MSE_subset_train = mean_squared_error(y_train, y_pred_train)\n",
        "R2_subset_train = r2_score(y_train, y_pred_train)\n",
        "\n",
        "fig = plt.figure(figsize=(8,4))\n",
        "ax = plt.subplot(1,2,1)\n",
        "labels = ['full model', 'subset']\n",
        "xtick = np.array([0,1])\n",
        "ax.bar(xtick,[MSE_full_train, MSE_subset_train], color = 'b', width = 0.4)\n",
        "ax.bar(xtick + 0.4,[MSE_full, MSE_subset], color = 'r', width = 0.4)\n",
        "ax.set_xticks(xtick)\n",
        "ax.set_xticklabels(labels)\n",
        "plt.ylabel('MSE')\n",
        "\n",
        "ax = plt.subplot(1,2,2)\n",
        "ax.bar(xtick,[R2_full_train, R2_subset_train], color = 'b', width = 0.4)\n",
        "ax.bar(xtick + 0.4,[R2_full, R2_subset], color = 'r', width = 0.4)\n",
        "ax.set_xticks(xtick)\n",
        "ax.set_xticklabels(labels)\n",
        "plt.ylabel('R2')\n",
        "ax.legend(labels=['Train', 'Test'], loc='upper center')\n",
        "plt.show()"
      ],
      "execution_count": 9,
      "outputs": [
        {
          "output_type": "display_data",
          "data": {
            "image/png": "[encoded data removed]",
            "text/plain": [
              "<Figure size 576x288 with 2 Axes>"
            ]
          },
          "metadata": {
            "tags": [],
            "needs_background": "light"
          }
        }
      ]
    },
    {
      "cell_type": "markdown",
      "metadata": {
        "id": "nOSsPNxvy4_3"
      },
      "source": [
        "In the follows, we implement the forward selection procedure and compare different choices of criteria."
      ]
    },
    {
      "cell_type": "code",
      "metadata": {
        "id": "IoIPQ6NavbNl"
      },
      "source": [
        "import numpy as np\n",
        "from sklearn import linear_model\n",
        "# implement a forward selection\n",
        "# this is done on the training set\n",
        "\n",
        "def aic(rss,n,d):\n",
        "  return 2*d + n*np.log(rss/n)\n",
        "\n",
        "def bic(rss,n,d):\n",
        "  return d*np.log(n) + n*np.log(rss/n)\n",
        "\n",
        "def adjustR2(rss,tss,n,d):\n",
        "  return 1-rss/(n-d-1)/tss*(n-1)\n",
        "\n",
        "def forward_select(X,y,c):\n",
        "  # c is the criterion\n",
        "  # 0. aic; 1. bic; 2. adjusted r2\n",
        "  fn = {\n",
        "        0: \"aic\",\n",
        "        1: \"bic\",\n",
        "        2: \"adjustR2\",\n",
        "   }\n",
        "  cri_name = fn.get(c, \"Invalid criterion\")\n",
        "  n,p = X.shape\n",
        "  mdl = []  # initiate M0\n",
        "  regr = linear_model.LinearRegression()\n",
        "  tss = np.sum((y - y.mean())**2)\n",
        "  for k in range(p):\n",
        "    # number of models\n",
        "    m = p - k\n",
        "    remain_inds = np.array(list(set(range(p)) - set(mdl)), dtype=int)\n",
        "    cri = np.zeros(m)\n",
        "    for i,j in enumerate(remain_inds):\n",
        "      mdl_temp = np.append(mdl, [j])\n",
        "      mdl_temp = mdl_temp.astype(int)\n",
        "      X_sel = X[:, mdl_temp]\n",
        "      n,d = X_sel.shape\n",
        "      regr.fit(X_sel, y)\n",
        "      y_hat = regr.predict(X_sel)\n",
        "      rss = np.sum((y - y_hat)**2)\n",
        "      cri[i] = rss\n",
        "    # get minimal rss ind\n",
        "    sel_ind = np.argmin(cri)\n",
        "    mdl = np.append(mdl, [remain_inds[sel_ind]])\n",
        "    mdl = mdl.astype(int)\n",
        "  # evaluate mdls with 1 to p number of predictors\n",
        "  cri = np.zeros(p)\n",
        "  for k in range(p):\n",
        "    X_sel = X[:, mdl[:k+1]]\n",
        "    n,d = X_sel.shape\n",
        "    regr.fit(X_sel, y)\n",
        "    y_hat = regr.predict(X_sel)\n",
        "    rss = np.sum((y - y_hat)**2)\n",
        "    if c<2:\n",
        "      cri[k] = eval(cri_name+'(rss,n,d)')\n",
        "    elif c==2:\n",
        "      cri[k] = eval(cri_name+'(rss,tss,n,d)')\n",
        "    else:\n",
        "      print(\"wrong number for criterion\")\n",
        "  if c<2:\n",
        "    sel_ind = np.argmin(cri)\n",
        "    best_set = mdl[:sel_ind+1]\n",
        "  elif c==2:\n",
        "    sel_ind = np.argmax(cri)\n",
        "    best_set = mdl[:sel_ind+1]\n",
        "  else:\n",
        "    print(\"wrong number for criterion\")  \n",
        "  return best_set,cri,mdl\n"
      ],
      "execution_count": 10,
      "outputs": []
    },
    {
      "cell_type": "code",
      "metadata": {
        "colab": {
          "base_uri": "https://localhost:8080/",
          "height": 312
        },
        "id": "TGHy2Nk278a6",
        "outputId": "b23cd223-8751-4075-c3cc-e7597a9c3fc3"
      },
      "source": [
        "import matplotlib.pyplot as plt\n",
        "n,p = X_train.shape\n",
        "\n",
        "plt.figure(figsize=(10,4))\n",
        "plt.subplot(1,3,1)\n",
        "best_set, cri, mdl= forward_select(X_train, y_train, 0)\n",
        "plt.plot(range(1,p+1), cri)\n",
        "plt.plot(len(best_set),cri[len(best_set)-1],'ro')\n",
        "plt.xlabel('# variables')\n",
        "plt.title('aic')\n",
        "\n",
        "plt.subplot(1,3,2)\n",
        "best_set, cri, mdl= forward_select(X_train, y_train, 1)\n",
        "plt.plot(range(1,p+1), cri)\n",
        "plt.plot(len(best_set),cri[len(best_set)-1],'ro')\n",
        "plt.xlabel('# variables')\n",
        "plt.title('bic')\n",
        "\n",
        "plt.subplot(1,3,3)\n",
        "best_set, cri, mdl= forward_select(X_train, y_train, 2)\n",
        "plt.plot(range(1,p+1), cri)\n",
        "plt.plot(len(best_set),cri[len(best_set)-1],'ro')\n",
        "plt.xlabel('# variables')\n",
        "plt.title('adjusted R2')\n",
        "plt.show()\n",
        "\n",
        "print(mdl)"
      ],
      "execution_count": 12,
      "outputs": [
        {
          "output_type": "display_data",
          "data": {
            "image/png": "[encoded data removed]",
            "text/plain": [
              "<Figure size 720x288 with 3 Axes>"
            ]
          },
          "metadata": {
            "tags": [],
            "needs_background": "light"
          }
        },
        {
          "output_type": "stream",
          "text": [
            "[2 8 4 3 1 7 9 5 6 0]\n"
          ],
          "name": "stdout"
        }
      ]
    },
    {
      "cell_type": "code",
      "metadata": {
        "colab": {
          "base_uri": "https://localhost:8080/"
        },
        "id": "ZU3UvDnU-Hkk",
        "outputId": "512a8801-c2f4-4678-80f9-871ee292fa9c"
      },
      "source": [
        "from sklearn.feature_selection import SequentialFeatureSelector\n",
        "regr = linear_model.LinearRegression()\n",
        "sfs = SequentialFeatureSelector(regr,direction='forward')\n",
        "sfs.fit(X_train, y_train)"
      ],
      "execution_count": 14,
      "outputs": [
        {
          "output_type": "execute_result",
          "data": {
            "text/plain": [
              "SequentialFeatureSelector(estimator=LinearRegression())"
            ]
          },
          "metadata": {
            "tags": []
          },
          "execution_count": 14
        }
      ]
    },
    {
      "cell_type": "code",
      "metadata": {
        "colab": {
          "base_uri": "https://localhost:8080/"
        },
        "id": "WN4CRViGt4mg",
        "outputId": "f89d225e-122a-4fba-ae0d-3a8578b6f250"
      },
      "source": [
        "np.where(sfs.get_support())"
      ],
      "execution_count": 18,
      "outputs": [
        {
          "output_type": "execute_result",
          "data": {
            "text/plain": [
              "(array([2, 3, 4, 5, 8]),)"
            ]
          },
          "metadata": {
            "tags": []
          },
          "execution_count": 18
        }
      ]
    },
    {
      "cell_type": "code",
      "metadata": {
        "colab": {
          "base_uri": "https://localhost:8080/"
        },
        "id": "1xAmxdIruXzl",
        "outputId": "17c653b8-9ba4-4a69-c2c1-80dce4ea7058"
      },
      "source": [
        "sfs.transform(X_train).shape"
      ],
      "execution_count": 17,
      "outputs": [
        {
          "output_type": "execute_result",
          "data": {
            "text/plain": [
              "(397, 5)"
            ]
          },
          "metadata": {
            "tags": []
          },
          "execution_count": 17
        }
      ]
    },
    {
      "cell_type": "markdown",
      "metadata": {
        "id": "c4OvGcbB7aDM"
      },
      "source": [
        "# 2.4 Shrinkage\n",
        "\n",
        "The ridge and lasso techniques are powerful tools to fit the model while performing variable selection at the same time."
      ]
    },
    {
      "cell_type": "code",
      "metadata": {
        "colab": {
          "base_uri": "https://localhost:8080/"
        },
        "id": "GjSb7M0EodyA",
        "outputId": "f2473493-e9f5-41bd-f34d-e01db4594087"
      },
      "source": [
        "# apply ridge\n",
        "regr = linear_model.Ridge()\n",
        "alphas = np.logspace(-4, -1, 6)\n",
        "scores = [regr.set_params(alpha=alpha).fit(X_train, y_train).score(X_test, y_test) for alpha in alphas]\n",
        "best_alpha = alphas[scores.index(max(scores))]\n",
        "regr.alpha = best_alpha\n",
        "regr.fit(X_train, y_train)\n",
        "\n",
        "print(regr.coef_)"
      ],
      "execution_count": null,
      "outputs": [
        {
          "output_type": "stream",
          "text": [
            "[ -21.53021612 -198.92624933  505.84202236  271.62525364 -108.25809329\n",
            "  -96.21819045 -169.35309901  141.34466189  449.37028556  113.34789969]\n"
          ],
          "name": "stdout"
        }
      ]
    },
    {
      "cell_type": "code",
      "metadata": {
        "colab": {
          "base_uri": "https://localhost:8080/"
        },
        "id": "EGNt5hWxcMh0",
        "outputId": "b97149b3-93ad-4c6d-dc28-3897bd9bf6fd"
      },
      "source": [
        "# apply lasso\n",
        "regr = linear_model.Lasso()\n",
        "scores = [regr.set_params(alpha=alpha).fit(X_train, y_train).score(X_test, y_test) for alpha in alphas]\n",
        "best_alpha = alphas[scores.index(max(scores))]\n",
        "regr.alpha = best_alpha\n",
        "regr.fit(X_train, y_train)\n",
        "\n",
        "print(regr.coef_)"
      ],
      "execution_count": null,
      "outputs": [
        {
          "output_type": "stream",
          "text": [
            "[  -0.         -148.61106393  540.08480654  235.25648032 -107.14773282\n",
            "   -0.         -196.78796975    0.          509.20315194   62.70323819]\n"
          ],
          "name": "stdout"
        }
      ]
    },
    {
      "cell_type": "markdown",
      "metadata": {
        "id": "3mMcwmZL78mp"
      },
      "source": [
        "## Homework\n",
        "1. Compare variable selections obtained from AIC/BIC/adjusted R2 and shrinkage.\n",
        "2. What is the difference between the coefficients estimated with ridge and lasso? Which one is performing variable selection?"
      ]
    }
  ]
}